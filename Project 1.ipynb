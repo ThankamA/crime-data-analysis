{
 "cells": [
  {
   "cell_type": "markdown",
   "metadata": {},
   "source": [
    "# CSE 510: Project 1 - Thankam Abish\n"
   ]
  },
  {
   "cell_type": "code",
   "execution_count": 1,
   "metadata": {},
   "outputs": [],
   "source": [
    "import pandas as pd\n",
    "import numpy as np"
   ]
  },
  {
   "cell_type": "markdown",
   "metadata": {},
   "source": [
    "# Part I & II\n",
    "###### (combined due to overlap)"
   ]
  },
  {
   "cell_type": "markdown",
   "metadata": {},
   "source": [
    "###### This dataset is found on https://data.buffalony.gov/Public-Safety/Crime-Incidents/d6g9-xbgu/data"
   ]
  },
  {
   "cell_type": "code",
   "execution_count": 2,
   "metadata": {},
   "outputs": [
    {
     "name": "stderr",
     "output_type": "stream",
     "text": [
      "C:\\ProgramData\\Anaconda3\\lib\\site-packages\\IPython\\core\\interactiveshell.py:3057: DtypeWarning: Columns (10,11) have mixed types. Specify dtype option on import or set low_memory=False.\n",
      "  interactivity=interactivity, compiler=compiler, result=result)\n"
     ]
    }
   ],
   "source": [
    "crime_data = pd.read_csv('Crime_Incidents.csv')"
   ]
  },
  {
   "cell_type": "code",
   "execution_count": 3,
   "metadata": {},
   "outputs": [],
   "source": [
    "##change incident dates to datetime objects\n",
    "crime_data['incident_datetime'] = pd.to_datetime(crime_data.incident_datetime)"
   ]
  },
  {
   "cell_type": "markdown",
   "metadata": {},
   "source": [
    "##### Variables:"
   ]
  },
  {
   "cell_type": "code",
   "execution_count": 4,
   "metadata": {},
   "outputs": [
    {
     "data": {
      "text/plain": [
       "incident_id                       int64\n",
       "case_number                      object\n",
       "incident_datetime        datetime64[ns]\n",
       "incident_type_primary            object\n",
       "incident_description             object\n",
       "clearance_type                  float64\n",
       "address_1                        object\n",
       "address_2                       float64\n",
       "city                             object\n",
       "state                            object\n",
       "zip                              object\n",
       "country                          object\n",
       "latitude                        float64\n",
       "longitude                       float64\n",
       "created_at                       object\n",
       "updated_at                       object\n",
       "location                         object\n",
       "hour_of_day                       int64\n",
       "day_of_week                      object\n",
       "parent_incident_type             object\n",
       "Council Districts               float64\n",
       "Police Districts                float64\n",
       "Zip Codes                       float64\n",
       "Tracts                          float64\n",
       "Block Groups                    float64\n",
       "Blocks                          float64\n",
       "Neighborhoods                   float64\n",
       "dtype: object"
      ]
     },
     "execution_count": 4,
     "metadata": {},
     "output_type": "execute_result"
    }
   ],
   "source": [
    "crime_data.dtypes"
   ]
  },
  {
   "cell_type": "markdown",
   "metadata": {},
   "source": [
    "##### 27 features, 2555126 rows of data"
   ]
  },
  {
   "cell_type": "code",
   "execution_count": 5,
   "metadata": {},
   "outputs": [
    {
     "data": {
      "text/plain": [
       "(255126, 27)"
      ]
     },
     "execution_count": 5,
     "metadata": {},
     "output_type": "execute_result"
    }
   ],
   "source": [
    "crime_data.shape"
   ]
  },
  {
   "cell_type": "code",
   "execution_count": 6,
   "metadata": {},
   "outputs": [
    {
     "data": {
      "text/html": [
       "<div>\n",
       "<style scoped>\n",
       "    .dataframe tbody tr th:only-of-type {\n",
       "        vertical-align: middle;\n",
       "    }\n",
       "\n",
       "    .dataframe tbody tr th {\n",
       "        vertical-align: top;\n",
       "    }\n",
       "\n",
       "    .dataframe thead th {\n",
       "        text-align: right;\n",
       "    }\n",
       "</style>\n",
       "<table border=\"1\" class=\"dataframe\">\n",
       "  <thead>\n",
       "    <tr style=\"text-align: right;\">\n",
       "      <th></th>\n",
       "      <th>incident_id</th>\n",
       "      <th>case_number</th>\n",
       "      <th>incident_datetime</th>\n",
       "      <th>incident_type_primary</th>\n",
       "      <th>incident_description</th>\n",
       "      <th>clearance_type</th>\n",
       "      <th>address_1</th>\n",
       "      <th>address_2</th>\n",
       "      <th>city</th>\n",
       "      <th>state</th>\n",
       "      <th>...</th>\n",
       "      <th>hour_of_day</th>\n",
       "      <th>day_of_week</th>\n",
       "      <th>parent_incident_type</th>\n",
       "      <th>Council Districts</th>\n",
       "      <th>Police Districts</th>\n",
       "      <th>Zip Codes</th>\n",
       "      <th>Tracts</th>\n",
       "      <th>Block Groups</th>\n",
       "      <th>Blocks</th>\n",
       "      <th>Neighborhoods</th>\n",
       "    </tr>\n",
       "  </thead>\n",
       "  <tbody>\n",
       "    <tr>\n",
       "      <th>23068</th>\n",
       "      <td>55236827</td>\n",
       "      <td>11-0050386</td>\n",
       "      <td>1910-12-22 00:00:00</td>\n",
       "      <td>LARCENY/THEFT</td>\n",
       "      <td>Buffalo Police are investigating this report o...</td>\n",
       "      <td>NaN</td>\n",
       "      <td>200 Block CRESTWOOD AV</td>\n",
       "      <td>NaN</td>\n",
       "      <td>BUFFALO</td>\n",
       "      <td>NY</td>\n",
       "      <td>...</td>\n",
       "      <td>0</td>\n",
       "      <td>Thursday</td>\n",
       "      <td>Theft</td>\n",
       "      <td>7.0</td>\n",
       "      <td>5.0</td>\n",
       "      <td>5.0</td>\n",
       "      <td>51.0</td>\n",
       "      <td>190.0</td>\n",
       "      <td>2820.0</td>\n",
       "      <td>25.0</td>\n",
       "    </tr>\n",
       "    <tr>\n",
       "      <th>80899</th>\n",
       "      <td>710086379</td>\n",
       "      <td>15-0760407</td>\n",
       "      <td>1914-12-01 22:00:00</td>\n",
       "      <td>LARCENY/THEFT</td>\n",
       "      <td>Buffalo Police are investigating this report o...</td>\n",
       "      <td>NaN</td>\n",
       "      <td>100 Block LINCOLN PW</td>\n",
       "      <td>NaN</td>\n",
       "      <td>BUFFALO</td>\n",
       "      <td>NY</td>\n",
       "      <td>...</td>\n",
       "      <td>22</td>\n",
       "      <td>Tuesday</td>\n",
       "      <td>Theft</td>\n",
       "      <td>7.0</td>\n",
       "      <td>5.0</td>\n",
       "      <td>12.0</td>\n",
       "      <td>54.0</td>\n",
       "      <td>193.0</td>\n",
       "      <td>453.0</td>\n",
       "      <td>27.0</td>\n",
       "    </tr>\n",
       "    <tr>\n",
       "      <th>152017</th>\n",
       "      <td>942663542</td>\n",
       "      <td>06-1840984</td>\n",
       "      <td>1951-07-03 19:51:00</td>\n",
       "      <td>UUV</td>\n",
       "      <td>Buffalo Police are investigating this report o...</td>\n",
       "      <td>NaN</td>\n",
       "      <td>200 Block W FERRY ST</td>\n",
       "      <td>NaN</td>\n",
       "      <td>BUFFALO</td>\n",
       "      <td>NY</td>\n",
       "      <td>...</td>\n",
       "      <td>19</td>\n",
       "      <td>Tuesday</td>\n",
       "      <td>Theft of Vehicle</td>\n",
       "      <td>3.0</td>\n",
       "      <td>1.0</td>\n",
       "      <td>2.0</td>\n",
       "      <td>43.0</td>\n",
       "      <td>23.0</td>\n",
       "      <td>2131.0</td>\n",
       "      <td>26.0</td>\n",
       "    </tr>\n",
       "    <tr>\n",
       "      <th>87777</th>\n",
       "      <td>146621859</td>\n",
       "      <td>13-0730379</td>\n",
       "      <td>1951-12-05 02:20:21</td>\n",
       "      <td>ASSAULT</td>\n",
       "      <td>Buffalo Police are investigating this report o...</td>\n",
       "      <td>NaN</td>\n",
       "      <td>200 Block CAMBRIDGE AV</td>\n",
       "      <td>NaN</td>\n",
       "      <td>BUFFALO</td>\n",
       "      <td>NY</td>\n",
       "      <td>...</td>\n",
       "      <td>2</td>\n",
       "      <td>Wednesday</td>\n",
       "      <td>Assault</td>\n",
       "      <td>9.0</td>\n",
       "      <td>2.0</td>\n",
       "      <td>11.0</td>\n",
       "      <td>18.0</td>\n",
       "      <td>165.0</td>\n",
       "      <td>1005.0</td>\n",
       "      <td>1.0</td>\n",
       "    </tr>\n",
       "    <tr>\n",
       "      <th>176143</th>\n",
       "      <td>942606470</td>\n",
       "      <td>08-3530528</td>\n",
       "      <td>1952-08-30 16:00:00</td>\n",
       "      <td>LARCENY/THEFT</td>\n",
       "      <td>Buffalo Police are investigating this report o...</td>\n",
       "      <td>NaN</td>\n",
       "      <td>200 Block JEFFERSON AV</td>\n",
       "      <td>NaN</td>\n",
       "      <td>BUFFALO</td>\n",
       "      <td>NY</td>\n",
       "      <td>...</td>\n",
       "      <td>16</td>\n",
       "      <td>Saturday</td>\n",
       "      <td>Theft</td>\n",
       "      <td>4.0</td>\n",
       "      <td>3.0</td>\n",
       "      <td>17.0</td>\n",
       "      <td>60.0</td>\n",
       "      <td>184.0</td>\n",
       "      <td>3101.0</td>\n",
       "      <td>23.0</td>\n",
       "    </tr>\n",
       "  </tbody>\n",
       "</table>\n",
       "<p>5 rows × 27 columns</p>\n",
       "</div>"
      ],
      "text/plain": [
       "        incident_id case_number   incident_datetime incident_type_primary  \\\n",
       "23068      55236827  11-0050386 1910-12-22 00:00:00         LARCENY/THEFT   \n",
       "80899     710086379  15-0760407 1914-12-01 22:00:00         LARCENY/THEFT   \n",
       "152017    942663542  06-1840984 1951-07-03 19:51:00                   UUV   \n",
       "87777     146621859  13-0730379 1951-12-05 02:20:21               ASSAULT   \n",
       "176143    942606470  08-3530528 1952-08-30 16:00:00         LARCENY/THEFT   \n",
       "\n",
       "                                     incident_description  clearance_type  \\\n",
       "23068   Buffalo Police are investigating this report o...             NaN   \n",
       "80899   Buffalo Police are investigating this report o...             NaN   \n",
       "152017  Buffalo Police are investigating this report o...             NaN   \n",
       "87777   Buffalo Police are investigating this report o...             NaN   \n",
       "176143  Buffalo Police are investigating this report o...             NaN   \n",
       "\n",
       "                     address_1  address_2     city state  ... hour_of_day  \\\n",
       "23068   200 Block CRESTWOOD AV        NaN  BUFFALO    NY  ...           0   \n",
       "80899     100 Block LINCOLN PW        NaN  BUFFALO    NY  ...          22   \n",
       "152017    200 Block W FERRY ST        NaN  BUFFALO    NY  ...          19   \n",
       "87777   200 Block CAMBRIDGE AV        NaN  BUFFALO    NY  ...           2   \n",
       "176143  200 Block JEFFERSON AV        NaN  BUFFALO    NY  ...          16   \n",
       "\n",
       "       day_of_week  parent_incident_type  Council Districts Police Districts  \\\n",
       "23068     Thursday                 Theft                7.0              5.0   \n",
       "80899      Tuesday                 Theft                7.0              5.0   \n",
       "152017     Tuesday      Theft of Vehicle                3.0              1.0   \n",
       "87777    Wednesday               Assault                9.0              2.0   \n",
       "176143    Saturday                 Theft                4.0              3.0   \n",
       "\n",
       "       Zip Codes Tracts  Block Groups  Blocks Neighborhoods   \n",
       "23068        5.0   51.0         190.0  2820.0           25.0  \n",
       "80899       12.0   54.0         193.0   453.0           27.0  \n",
       "152017       2.0   43.0          23.0  2131.0           26.0  \n",
       "87777       11.0   18.0         165.0  1005.0            1.0  \n",
       "176143      17.0   60.0         184.0  3101.0           23.0  \n",
       "\n",
       "[5 rows x 27 columns]"
      ]
     },
     "execution_count": 6,
     "metadata": {},
     "output_type": "execute_result"
    }
   ],
   "source": [
    "crime_data = crime_data.sort_values(by=['incident_datetime'])\n",
    "crime_data.head(5)"
   ]
  },
  {
   "cell_type": "code",
   "execution_count": 7,
   "metadata": {},
   "outputs": [
    {
     "data": {
      "text/html": [
       "<div>\n",
       "<style scoped>\n",
       "    .dataframe tbody tr th:only-of-type {\n",
       "        vertical-align: middle;\n",
       "    }\n",
       "\n",
       "    .dataframe tbody tr th {\n",
       "        vertical-align: top;\n",
       "    }\n",
       "\n",
       "    .dataframe thead th {\n",
       "        text-align: right;\n",
       "    }\n",
       "</style>\n",
       "<table border=\"1\" class=\"dataframe\">\n",
       "  <thead>\n",
       "    <tr style=\"text-align: right;\">\n",
       "      <th></th>\n",
       "      <th>incident_id</th>\n",
       "      <th>clearance_type</th>\n",
       "      <th>address_2</th>\n",
       "      <th>latitude</th>\n",
       "      <th>longitude</th>\n",
       "      <th>hour_of_day</th>\n",
       "      <th>Council Districts</th>\n",
       "      <th>Police Districts</th>\n",
       "      <th>Zip Codes</th>\n",
       "      <th>Tracts</th>\n",
       "      <th>Block Groups</th>\n",
       "      <th>Blocks</th>\n",
       "      <th>Neighborhoods</th>\n",
       "    </tr>\n",
       "  </thead>\n",
       "  <tbody>\n",
       "    <tr>\n",
       "      <th>count</th>\n",
       "      <td>2.551260e+05</td>\n",
       "      <td>0.0</td>\n",
       "      <td>0.0</td>\n",
       "      <td>255126.000000</td>\n",
       "      <td>255126.000000</td>\n",
       "      <td>255126.000000</td>\n",
       "      <td>252295.000000</td>\n",
       "      <td>252377.000000</td>\n",
       "      <td>252987.000000</td>\n",
       "      <td>252347.000000</td>\n",
       "      <td>252313.000000</td>\n",
       "      <td>252345.000000</td>\n",
       "      <td>252322.000000</td>\n",
       "    </tr>\n",
       "    <tr>\n",
       "      <th>mean</th>\n",
       "      <td>5.529445e+08</td>\n",
       "      <td>NaN</td>\n",
       "      <td>NaN</td>\n",
       "      <td>42.664314</td>\n",
       "      <td>-78.397422</td>\n",
       "      <td>11.686347</td>\n",
       "      <td>4.821986</td>\n",
       "      <td>2.889055</td>\n",
       "      <td>10.743568</td>\n",
       "      <td>41.385949</td>\n",
       "      <td>138.436291</td>\n",
       "      <td>1677.426876</td>\n",
       "      <td>16.974699</td>\n",
       "    </tr>\n",
       "    <tr>\n",
       "      <th>std</th>\n",
       "      <td>3.828970e+08</td>\n",
       "      <td>NaN</td>\n",
       "      <td>NaN</td>\n",
       "      <td>3.244124</td>\n",
       "      <td>5.965669</td>\n",
       "      <td>7.484129</td>\n",
       "      <td>2.579323</td>\n",
       "      <td>1.484546</td>\n",
       "      <td>5.921112</td>\n",
       "      <td>23.725573</td>\n",
       "      <td>84.115986</td>\n",
       "      <td>972.534664</td>\n",
       "      <td>10.041369</td>\n",
       "    </tr>\n",
       "    <tr>\n",
       "      <th>min</th>\n",
       "      <td>1.006626e+07</td>\n",
       "      <td>NaN</td>\n",
       "      <td>NaN</td>\n",
       "      <td>0.000000</td>\n",
       "      <td>-123.869509</td>\n",
       "      <td>0.000000</td>\n",
       "      <td>1.000000</td>\n",
       "      <td>1.000000</td>\n",
       "      <td>1.000000</td>\n",
       "      <td>1.000000</td>\n",
       "      <td>1.000000</td>\n",
       "      <td>1.000000</td>\n",
       "      <td>1.000000</td>\n",
       "    </tr>\n",
       "    <tr>\n",
       "      <th>25%</th>\n",
       "      <td>1.042642e+08</td>\n",
       "      <td>NaN</td>\n",
       "      <td>NaN</td>\n",
       "      <td>42.893031</td>\n",
       "      <td>-78.877540</td>\n",
       "      <td>5.000000</td>\n",
       "      <td>3.000000</td>\n",
       "      <td>2.000000</td>\n",
       "      <td>5.000000</td>\n",
       "      <td>20.000000</td>\n",
       "      <td>60.000000</td>\n",
       "      <td>823.000000</td>\n",
       "      <td>8.000000</td>\n",
       "    </tr>\n",
       "    <tr>\n",
       "      <th>50%</th>\n",
       "      <td>7.375205e+08</td>\n",
       "      <td>NaN</td>\n",
       "      <td>NaN</td>\n",
       "      <td>42.912856</td>\n",
       "      <td>-78.848424</td>\n",
       "      <td>12.000000</td>\n",
       "      <td>5.000000</td>\n",
       "      <td>3.000000</td>\n",
       "      <td>11.000000</td>\n",
       "      <td>41.000000</td>\n",
       "      <td>137.000000</td>\n",
       "      <td>1662.000000</td>\n",
       "      <td>16.000000</td>\n",
       "    </tr>\n",
       "    <tr>\n",
       "      <th>75%</th>\n",
       "      <td>9.425761e+08</td>\n",
       "      <td>NaN</td>\n",
       "      <td>NaN</td>\n",
       "      <td>42.934960</td>\n",
       "      <td>-78.820318</td>\n",
       "      <td>18.000000</td>\n",
       "      <td>7.000000</td>\n",
       "      <td>4.000000</td>\n",
       "      <td>16.000000</td>\n",
       "      <td>63.000000</td>\n",
       "      <td>212.000000</td>\n",
       "      <td>2567.000000</td>\n",
       "      <td>26.000000</td>\n",
       "    </tr>\n",
       "    <tr>\n",
       "      <th>max</th>\n",
       "      <td>9.527310e+08</td>\n",
       "      <td>NaN</td>\n",
       "      <td>NaN</td>\n",
       "      <td>44.314844</td>\n",
       "      <td>0.000000</td>\n",
       "      <td>23.000000</td>\n",
       "      <td>9.000000</td>\n",
       "      <td>5.000000</td>\n",
       "      <td>23.000000</td>\n",
       "      <td>79.000000</td>\n",
       "      <td>287.000000</td>\n",
       "      <td>3303.000000</td>\n",
       "      <td>35.000000</td>\n",
       "    </tr>\n",
       "  </tbody>\n",
       "</table>\n",
       "</div>"
      ],
      "text/plain": [
       "        incident_id  clearance_type  address_2       latitude      longitude  \\\n",
       "count  2.551260e+05             0.0        0.0  255126.000000  255126.000000   \n",
       "mean   5.529445e+08             NaN        NaN      42.664314     -78.397422   \n",
       "std    3.828970e+08             NaN        NaN       3.244124       5.965669   \n",
       "min    1.006626e+07             NaN        NaN       0.000000    -123.869509   \n",
       "25%    1.042642e+08             NaN        NaN      42.893031     -78.877540   \n",
       "50%    7.375205e+08             NaN        NaN      42.912856     -78.848424   \n",
       "75%    9.425761e+08             NaN        NaN      42.934960     -78.820318   \n",
       "max    9.527310e+08             NaN        NaN      44.314844       0.000000   \n",
       "\n",
       "         hour_of_day  Council Districts  Police Districts      Zip Codes  \\\n",
       "count  255126.000000      252295.000000     252377.000000  252987.000000   \n",
       "mean       11.686347           4.821986          2.889055      10.743568   \n",
       "std         7.484129           2.579323          1.484546       5.921112   \n",
       "min         0.000000           1.000000          1.000000       1.000000   \n",
       "25%         5.000000           3.000000          2.000000       5.000000   \n",
       "50%        12.000000           5.000000          3.000000      11.000000   \n",
       "75%        18.000000           7.000000          4.000000      16.000000   \n",
       "max        23.000000           9.000000          5.000000      23.000000   \n",
       "\n",
       "              Tracts   Block Groups         Blocks  Neighborhoods   \n",
       "count  252347.000000  252313.000000  252345.000000   252322.000000  \n",
       "mean       41.385949     138.436291    1677.426876       16.974699  \n",
       "std        23.725573      84.115986     972.534664       10.041369  \n",
       "min         1.000000       1.000000       1.000000        1.000000  \n",
       "25%        20.000000      60.000000     823.000000        8.000000  \n",
       "50%        41.000000     137.000000    1662.000000       16.000000  \n",
       "75%        63.000000     212.000000    2567.000000       26.000000  \n",
       "max        79.000000     287.000000    3303.000000       35.000000  "
      ]
     },
     "execution_count": 7,
     "metadata": {},
     "output_type": "execute_result"
    }
   ],
   "source": [
    "crime_data.describe()"
   ]
  },
  {
   "cell_type": "code",
   "execution_count": 8,
   "metadata": {},
   "outputs": [],
   "source": [
    "crime_data.columns\n",
    "CD = crime_data[['incident_id', 'case_number', 'incident_datetime',\n",
    "       'hour_of_day','day_of_week', 'parent_incident_type',\n",
    "       'Police Districts', 'Zip Codes', 'Neighborhoods ']]"
   ]
  },
  {
   "cell_type": "code",
   "execution_count": 9,
   "metadata": {},
   "outputs": [],
   "source": [
    "CD = CD.reset_index(drop=True)"
   ]
  },
  {
   "cell_type": "code",
   "execution_count": 10,
   "metadata": {},
   "outputs": [
    {
     "data": {
      "text/html": [
       "<div>\n",
       "<style scoped>\n",
       "    .dataframe tbody tr th:only-of-type {\n",
       "        vertical-align: middle;\n",
       "    }\n",
       "\n",
       "    .dataframe tbody tr th {\n",
       "        vertical-align: top;\n",
       "    }\n",
       "\n",
       "    .dataframe thead th {\n",
       "        text-align: right;\n",
       "    }\n",
       "</style>\n",
       "<table border=\"1\" class=\"dataframe\">\n",
       "  <thead>\n",
       "    <tr style=\"text-align: right;\">\n",
       "      <th></th>\n",
       "      <th>incident_id</th>\n",
       "      <th>case_number</th>\n",
       "      <th>incident_datetime</th>\n",
       "      <th>hour_of_day</th>\n",
       "      <th>day_of_week</th>\n",
       "      <th>parent_incident_type</th>\n",
       "      <th>Police Districts</th>\n",
       "      <th>Zip Codes</th>\n",
       "      <th>Neighborhoods</th>\n",
       "    </tr>\n",
       "  </thead>\n",
       "  <tbody>\n",
       "    <tr>\n",
       "      <th>0</th>\n",
       "      <td>55236827</td>\n",
       "      <td>11-0050386</td>\n",
       "      <td>1910-12-22 00:00:00</td>\n",
       "      <td>0</td>\n",
       "      <td>Thursday</td>\n",
       "      <td>Theft</td>\n",
       "      <td>5.0</td>\n",
       "      <td>5.0</td>\n",
       "      <td>25.0</td>\n",
       "    </tr>\n",
       "    <tr>\n",
       "      <th>1</th>\n",
       "      <td>710086379</td>\n",
       "      <td>15-0760407</td>\n",
       "      <td>1914-12-01 22:00:00</td>\n",
       "      <td>22</td>\n",
       "      <td>Tuesday</td>\n",
       "      <td>Theft</td>\n",
       "      <td>5.0</td>\n",
       "      <td>12.0</td>\n",
       "      <td>27.0</td>\n",
       "    </tr>\n",
       "    <tr>\n",
       "      <th>2</th>\n",
       "      <td>942663542</td>\n",
       "      <td>06-1840984</td>\n",
       "      <td>1951-07-03 19:51:00</td>\n",
       "      <td>19</td>\n",
       "      <td>Tuesday</td>\n",
       "      <td>Theft of Vehicle</td>\n",
       "      <td>1.0</td>\n",
       "      <td>2.0</td>\n",
       "      <td>26.0</td>\n",
       "    </tr>\n",
       "    <tr>\n",
       "      <th>3</th>\n",
       "      <td>146621859</td>\n",
       "      <td>13-0730379</td>\n",
       "      <td>1951-12-05 02:20:21</td>\n",
       "      <td>2</td>\n",
       "      <td>Wednesday</td>\n",
       "      <td>Assault</td>\n",
       "      <td>2.0</td>\n",
       "      <td>11.0</td>\n",
       "      <td>1.0</td>\n",
       "    </tr>\n",
       "    <tr>\n",
       "      <th>4</th>\n",
       "      <td>942606470</td>\n",
       "      <td>08-3530528</td>\n",
       "      <td>1952-08-30 16:00:00</td>\n",
       "      <td>16</td>\n",
       "      <td>Saturday</td>\n",
       "      <td>Theft</td>\n",
       "      <td>3.0</td>\n",
       "      <td>17.0</td>\n",
       "      <td>23.0</td>\n",
       "    </tr>\n",
       "  </tbody>\n",
       "</table>\n",
       "</div>"
      ],
      "text/plain": [
       "   incident_id case_number   incident_datetime  hour_of_day day_of_week  \\\n",
       "0     55236827  11-0050386 1910-12-22 00:00:00            0    Thursday   \n",
       "1    710086379  15-0760407 1914-12-01 22:00:00           22     Tuesday   \n",
       "2    942663542  06-1840984 1951-07-03 19:51:00           19     Tuesday   \n",
       "3    146621859  13-0730379 1951-12-05 02:20:21            2   Wednesday   \n",
       "4    942606470  08-3530528 1952-08-30 16:00:00           16    Saturday   \n",
       "\n",
       "  parent_incident_type  Police Districts  Zip Codes  Neighborhoods   \n",
       "0                Theft               5.0        5.0            25.0  \n",
       "1                Theft               5.0       12.0            27.0  \n",
       "2     Theft of Vehicle               1.0        2.0            26.0  \n",
       "3              Assault               2.0       11.0             1.0  \n",
       "4                Theft               3.0       17.0            23.0  "
      ]
     },
     "execution_count": 10,
     "metadata": {},
     "output_type": "execute_result"
    }
   ],
   "source": [
    "CD.head(5)"
   ]
  },
  {
   "cell_type": "code",
   "execution_count": 11,
   "metadata": {},
   "outputs": [],
   "source": [
    "#Drop all rows that contain nan value in any column\n",
    "CD = CD.dropna()"
   ]
  },
  {
   "cell_type": "markdown",
   "metadata": {},
   "source": [
    "##### New size of data"
   ]
  },
  {
   "cell_type": "code",
   "execution_count": 12,
   "metadata": {},
   "outputs": [
    {
     "data": {
      "text/plain": [
       "(252245, 9)"
      ]
     },
     "execution_count": 12,
     "metadata": {},
     "output_type": "execute_result"
    }
   ],
   "source": [
    "CD.shape"
   ]
  },
  {
   "cell_type": "markdown",
   "metadata": {},
   "source": [
    "##### The following shows the counts of several categories within the data such as day of week"
   ]
  },
  {
   "cell_type": "code",
   "execution_count": 13,
   "metadata": {},
   "outputs": [
    {
     "data": {
      "text/plain": [
       "<matplotlib.axes._subplots.AxesSubplot at 0x18e4e51da20>"
      ]
     },
     "execution_count": 13,
     "metadata": {},
     "output_type": "execute_result"
    },
    {
     "data": {
      "image/png": "[encoded data removed]",
      "text/plain": [
       "<Figure size 432x288 with 1 Axes>"
      ]
     },
     "metadata": {
      "needs_background": "light"
     },
     "output_type": "display_data"
    }
   ],
   "source": [
    "%matplotlib inline\n",
    "CD.day_of_week = pd.Categorical(CD.day_of_week, categories=['Sunday','Monday', 'Tuesday', 'Wednesday','Thursday','Friday','Saturday'], ordered=True)\n",
    "pd.value_counts(CD['day_of_week'], sort = False).plot.bar()"
   ]
  },
  {
   "cell_type": "code",
   "execution_count": 14,
   "metadata": {},
   "outputs": [
    {
     "data": {
      "text/plain": [
       "<matplotlib.axes._subplots.AxesSubplot at 0x18e4f351dd8>"
      ]
     },
     "execution_count": 14,
     "metadata": {},
     "output_type": "execute_result"
    },
    {
     "data": {
      "image/png": "[encoded data removed]",
      "text/plain": [
       "<Figure size 432x288 with 1 Axes>"
      ]
     },
     "metadata": {},
     "output_type": "display_data"
    }
   ],
   "source": [
    "CD.day_of_week.value_counts(sort=False).plot(kind=\"pie\")"
   ]
  },
  {
   "cell_type": "code",
   "execution_count": 15,
   "metadata": {},
   "outputs": [
    {
     "data": {
      "text/plain": [
       "<matplotlib.axes._subplots.AxesSubplot at 0x18e4f3a4f28>"
      ]
     },
     "execution_count": 15,
     "metadata": {},
     "output_type": "execute_result"
    },
    {
     "data": {
      "image/png": "[encoded data removed]",
      "text/plain": [
       "<Figure size 432x288 with 1 Axes>"
      ]
     },
     "metadata": {
      "needs_background": "light"
     },
     "output_type": "display_data"
    }
   ],
   "source": [
    "pd.value_counts(CD['hour_of_day']).sort_index().plot.bar()"
   ]
  },
  {
   "cell_type": "code",
   "execution_count": 16,
   "metadata": {},
   "outputs": [
    {
     "data": {
      "text/plain": [
       "<matplotlib.axes._subplots.AxesSubplot at 0x18e4f3a42b0>"
      ]
     },
     "execution_count": 16,
     "metadata": {},
     "output_type": "execute_result"
    },
    {
     "data": {
      "image/png": "[encoded data removed]",
      "text/plain": [
       "<Figure size 432x288 with 1 Axes>"
      ]
     },
     "metadata": {
      "needs_background": "light"
     },
     "output_type": "display_data"
    }
   ],
   "source": [
    "pd.value_counts(CD['parent_incident_type']).plot.bar()"
   ]
  },
  {
   "cell_type": "code",
   "execution_count": 17,
   "metadata": {},
   "outputs": [
    {
     "data": {
      "text/plain": [
       "<matplotlib.axes._subplots.AxesSubplot at 0x18e4fe22828>"
      ]
     },
     "execution_count": 17,
     "metadata": {},
     "output_type": "execute_result"
    },
    {
     "data": {
      "image/png": "[encoded data removed]",
      "text/plain": [
       "<Figure size 432x288 with 1 Axes>"
      ]
     },
     "metadata": {
      "needs_background": "light"
     },
     "output_type": "display_data"
    }
   ],
   "source": [
    "pd.value_counts(CD['Police Districts']).sort_index().plot.bar()"
   ]
  },
  {
   "cell_type": "code",
   "execution_count": 18,
   "metadata": {},
   "outputs": [
    {
     "data": {
      "text/plain": [
       "<matplotlib.axes._subplots.AxesSubplot at 0x18e4fe86240>"
      ]
     },
     "execution_count": 18,
     "metadata": {},
     "output_type": "execute_result"
    },
    {
     "data": {
      "image/png": "[encoded data removed]",
      "text/plain": [
       "<Figure size 432x288 with 1 Axes>"
      ]
     },
     "metadata": {
      "needs_background": "light"
     },
     "output_type": "display_data"
    }
   ],
   "source": [
    "pd.value_counts(CD['Zip Codes']).sort_index().plot.bar()"
   ]
  },
  {
   "cell_type": "code",
   "execution_count": 19,
   "metadata": {},
   "outputs": [
    {
     "data": {
      "text/plain": [
       "<matplotlib.axes._subplots.AxesSubplot at 0x18e4ff534e0>"
      ]
     },
     "execution_count": 19,
     "metadata": {},
     "output_type": "execute_result"
    },
    {
     "data": {
      "image/png": "[encoded data removed]",
      "text/plain": [
       "<Figure size 432x288 with 1 Axes>"
      ]
     },
     "metadata": {
      "needs_background": "light"
     },
     "output_type": "display_data"
    }
   ],
   "source": [
    "pd.value_counts(CD['Neighborhoods ']).sort_index().plot.bar()"
   ]
  },
  {
   "cell_type": "code",
   "execution_count": 20,
   "metadata": {},
   "outputs": [
    {
     "data": {
      "text/plain": [
       "<matplotlib.axes._subplots.AxesSubplot at 0x18e5009a320>"
      ]
     },
     "execution_count": 20,
     "metadata": {},
     "output_type": "execute_result"
    },
    {
     "data": {
      "image/png": "[encoded data removed]",
      "text/plain": [
       "<Figure size 432x288 with 1 Axes>"
      ]
     },
     "metadata": {
      "needs_background": "light"
     },
     "output_type": "display_data"
    }
   ],
   "source": [
    "(CD['Neighborhoods '].value_counts() / len(CD)).sort_index().plot.line()"
   ]
  },
  {
   "cell_type": "code",
   "execution_count": 21,
   "metadata": {},
   "outputs": [
    {
     "data": {
      "text/plain": [
       "<matplotlib.axes._subplots.AxesSubplot at 0x18e50110eb8>"
      ]
     },
     "execution_count": 21,
     "metadata": {},
     "output_type": "execute_result"
    },
    {
     "data": {
      "image/png": "[encoded data removed]",
      "text/plain": [
       "<Figure size 432x288 with 1 Axes>"
      ]
     },
     "metadata": {
      "needs_background": "light"
     },
     "output_type": "display_data"
    }
   ],
   "source": [
    "CD.groupby('day_of_week').parent_incident_type.value_counts().unstack(0).plot.bar()"
   ]
  },
  {
   "cell_type": "markdown",
   "metadata": {},
   "source": [
    "### Mapping for day of week will be:\n",
    "##### 1 - Sunday\n",
    "##### 2 - Monday\n",
    "##### 3 - Tuesday\n",
    "##### 4 - Wednesday\n",
    "##### 5 - Thursday\n",
    "##### 6 - Friday\n",
    "##### 7 - Saturday"
   ]
  },
  {
   "cell_type": "code",
   "execution_count": 22,
   "metadata": {},
   "outputs": [
    {
     "data": {
      "text/html": [
       "<div>\n",
       "<style scoped>\n",
       "    .dataframe tbody tr th:only-of-type {\n",
       "        vertical-align: middle;\n",
       "    }\n",
       "\n",
       "    .dataframe tbody tr th {\n",
       "        vertical-align: top;\n",
       "    }\n",
       "\n",
       "    .dataframe thead th {\n",
       "        text-align: right;\n",
       "    }\n",
       "</style>\n",
       "<table border=\"1\" class=\"dataframe\">\n",
       "  <thead>\n",
       "    <tr style=\"text-align: right;\">\n",
       "      <th></th>\n",
       "      <th>incident_id</th>\n",
       "      <th>case_number</th>\n",
       "      <th>incident_datetime</th>\n",
       "      <th>hour_of_day</th>\n",
       "      <th>day_of_week</th>\n",
       "      <th>parent_incident_type</th>\n",
       "      <th>Police Districts</th>\n",
       "      <th>Zip Codes</th>\n",
       "      <th>Neighborhoods</th>\n",
       "      <th>day</th>\n",
       "    </tr>\n",
       "  </thead>\n",
       "  <tbody>\n",
       "    <tr>\n",
       "      <th>0</th>\n",
       "      <td>55236827</td>\n",
       "      <td>11-0050386</td>\n",
       "      <td>1910-12-22 00:00:00</td>\n",
       "      <td>0</td>\n",
       "      <td>Thursday</td>\n",
       "      <td>Theft</td>\n",
       "      <td>5.0</td>\n",
       "      <td>5.0</td>\n",
       "      <td>25.0</td>\n",
       "      <td>5</td>\n",
       "    </tr>\n",
       "    <tr>\n",
       "      <th>1</th>\n",
       "      <td>710086379</td>\n",
       "      <td>15-0760407</td>\n",
       "      <td>1914-12-01 22:00:00</td>\n",
       "      <td>22</td>\n",
       "      <td>Tuesday</td>\n",
       "      <td>Theft</td>\n",
       "      <td>5.0</td>\n",
       "      <td>12.0</td>\n",
       "      <td>27.0</td>\n",
       "      <td>3</td>\n",
       "    </tr>\n",
       "    <tr>\n",
       "      <th>2</th>\n",
       "      <td>942663542</td>\n",
       "      <td>06-1840984</td>\n",
       "      <td>1951-07-03 19:51:00</td>\n",
       "      <td>19</td>\n",
       "      <td>Tuesday</td>\n",
       "      <td>Theft of Vehicle</td>\n",
       "      <td>1.0</td>\n",
       "      <td>2.0</td>\n",
       "      <td>26.0</td>\n",
       "      <td>3</td>\n",
       "    </tr>\n",
       "    <tr>\n",
       "      <th>3</th>\n",
       "      <td>146621859</td>\n",
       "      <td>13-0730379</td>\n",
       "      <td>1951-12-05 02:20:21</td>\n",
       "      <td>2</td>\n",
       "      <td>Wednesday</td>\n",
       "      <td>Assault</td>\n",
       "      <td>2.0</td>\n",
       "      <td>11.0</td>\n",
       "      <td>1.0</td>\n",
       "      <td>4</td>\n",
       "    </tr>\n",
       "    <tr>\n",
       "      <th>4</th>\n",
       "      <td>942606470</td>\n",
       "      <td>08-3530528</td>\n",
       "      <td>1952-08-30 16:00:00</td>\n",
       "      <td>16</td>\n",
       "      <td>Saturday</td>\n",
       "      <td>Theft</td>\n",
       "      <td>3.0</td>\n",
       "      <td>17.0</td>\n",
       "      <td>23.0</td>\n",
       "      <td>7</td>\n",
       "    </tr>\n",
       "  </tbody>\n",
       "</table>\n",
       "</div>"
      ],
      "text/plain": [
       "   incident_id case_number   incident_datetime  hour_of_day day_of_week  \\\n",
       "0     55236827  11-0050386 1910-12-22 00:00:00            0    Thursday   \n",
       "1    710086379  15-0760407 1914-12-01 22:00:00           22     Tuesday   \n",
       "2    942663542  06-1840984 1951-07-03 19:51:00           19     Tuesday   \n",
       "3    146621859  13-0730379 1951-12-05 02:20:21            2   Wednesday   \n",
       "4    942606470  08-3530528 1952-08-30 16:00:00           16    Saturday   \n",
       "\n",
       "  parent_incident_type  Police Districts  Zip Codes  Neighborhoods   day  \n",
       "0                Theft               5.0        5.0            25.0    5  \n",
       "1                Theft               5.0       12.0            27.0    3  \n",
       "2     Theft of Vehicle               1.0        2.0            26.0    3  \n",
       "3              Assault               2.0       11.0             1.0    4  \n",
       "4                Theft               3.0       17.0            23.0    7  "
      ]
     },
     "execution_count": 22,
     "metadata": {},
     "output_type": "execute_result"
    }
   ],
   "source": [
    "CD['day'] = pd.factorize(CD['day_of_week'], sort=True)[0] + 1 \n",
    "CD.head(5)"
   ]
  },
  {
   "cell_type": "markdown",
   "metadata": {},
   "source": [
    "### Mapping for parent incident type will be:\n",
    "##### 1 - Theft\n",
    "##### 2 - Theft of Vehicle\n",
    "##### 3 - Assault\n",
    "##### 4 - Breaking & Entering\n",
    "##### 5 - Robbery\n",
    "##### 6 - Other Sexual Offense\n",
    "##### 7 - Sexual Assault\n",
    "##### 8 - Homicide\n",
    "##### 9 - Sexual Offense"
   ]
  },
  {
   "cell_type": "code",
   "execution_count": 23,
   "metadata": {},
   "outputs": [
    {
     "data": {
      "text/html": [
       "<div>\n",
       "<style scoped>\n",
       "    .dataframe tbody tr th:only-of-type {\n",
       "        vertical-align: middle;\n",
       "    }\n",
       "\n",
       "    .dataframe tbody tr th {\n",
       "        vertical-align: top;\n",
       "    }\n",
       "\n",
       "    .dataframe thead th {\n",
       "        text-align: right;\n",
       "    }\n",
       "</style>\n",
       "<table border=\"1\" class=\"dataframe\">\n",
       "  <thead>\n",
       "    <tr style=\"text-align: right;\">\n",
       "      <th></th>\n",
       "      <th>incident_id</th>\n",
       "      <th>case_number</th>\n",
       "      <th>incident_datetime</th>\n",
       "      <th>hour_of_day</th>\n",
       "      <th>day_of_week</th>\n",
       "      <th>parent_incident_type</th>\n",
       "      <th>Police Districts</th>\n",
       "      <th>Zip Codes</th>\n",
       "      <th>Neighborhoods</th>\n",
       "      <th>day</th>\n",
       "      <th>crime_type</th>\n",
       "    </tr>\n",
       "  </thead>\n",
       "  <tbody>\n",
       "    <tr>\n",
       "      <th>0</th>\n",
       "      <td>55236827</td>\n",
       "      <td>11-0050386</td>\n",
       "      <td>1910-12-22 00:00:00</td>\n",
       "      <td>0</td>\n",
       "      <td>Thursday</td>\n",
       "      <td>Theft</td>\n",
       "      <td>5.0</td>\n",
       "      <td>5.0</td>\n",
       "      <td>25.0</td>\n",
       "      <td>5</td>\n",
       "      <td>1</td>\n",
       "    </tr>\n",
       "    <tr>\n",
       "      <th>1</th>\n",
       "      <td>710086379</td>\n",
       "      <td>15-0760407</td>\n",
       "      <td>1914-12-01 22:00:00</td>\n",
       "      <td>22</td>\n",
       "      <td>Tuesday</td>\n",
       "      <td>Theft</td>\n",
       "      <td>5.0</td>\n",
       "      <td>12.0</td>\n",
       "      <td>27.0</td>\n",
       "      <td>3</td>\n",
       "      <td>1</td>\n",
       "    </tr>\n",
       "    <tr>\n",
       "      <th>2</th>\n",
       "      <td>942663542</td>\n",
       "      <td>06-1840984</td>\n",
       "      <td>1951-07-03 19:51:00</td>\n",
       "      <td>19</td>\n",
       "      <td>Tuesday</td>\n",
       "      <td>Theft of Vehicle</td>\n",
       "      <td>1.0</td>\n",
       "      <td>2.0</td>\n",
       "      <td>26.0</td>\n",
       "      <td>3</td>\n",
       "      <td>2</td>\n",
       "    </tr>\n",
       "    <tr>\n",
       "      <th>3</th>\n",
       "      <td>146621859</td>\n",
       "      <td>13-0730379</td>\n",
       "      <td>1951-12-05 02:20:21</td>\n",
       "      <td>2</td>\n",
       "      <td>Wednesday</td>\n",
       "      <td>Assault</td>\n",
       "      <td>2.0</td>\n",
       "      <td>11.0</td>\n",
       "      <td>1.0</td>\n",
       "      <td>4</td>\n",
       "      <td>3</td>\n",
       "    </tr>\n",
       "    <tr>\n",
       "      <th>4</th>\n",
       "      <td>942606470</td>\n",
       "      <td>08-3530528</td>\n",
       "      <td>1952-08-30 16:00:00</td>\n",
       "      <td>16</td>\n",
       "      <td>Saturday</td>\n",
       "      <td>Theft</td>\n",
       "      <td>3.0</td>\n",
       "      <td>17.0</td>\n",
       "      <td>23.0</td>\n",
       "      <td>7</td>\n",
       "      <td>1</td>\n",
       "    </tr>\n",
       "  </tbody>\n",
       "</table>\n",
       "</div>"
      ],
      "text/plain": [
       "   incident_id case_number   incident_datetime  hour_of_day day_of_week  \\\n",
       "0     55236827  11-0050386 1910-12-22 00:00:00            0    Thursday   \n",
       "1    710086379  15-0760407 1914-12-01 22:00:00           22     Tuesday   \n",
       "2    942663542  06-1840984 1951-07-03 19:51:00           19     Tuesday   \n",
       "3    146621859  13-0730379 1951-12-05 02:20:21            2   Wednesday   \n",
       "4    942606470  08-3530528 1952-08-30 16:00:00           16    Saturday   \n",
       "\n",
       "  parent_incident_type  Police Districts  Zip Codes  Neighborhoods   day  \\\n",
       "0                Theft               5.0        5.0            25.0    5   \n",
       "1                Theft               5.0       12.0            27.0    3   \n",
       "2     Theft of Vehicle               1.0        2.0            26.0    3   \n",
       "3              Assault               2.0       11.0             1.0    4   \n",
       "4                Theft               3.0       17.0            23.0    7   \n",
       "\n",
       "   crime_type  \n",
       "0           1  \n",
       "1           1  \n",
       "2           2  \n",
       "3           3  \n",
       "4           1  "
      ]
     },
     "execution_count": 23,
     "metadata": {},
     "output_type": "execute_result"
    }
   ],
   "source": [
    "CD['parent_incident_type'] = pd.Categorical(CD.parent_incident_type, categories=['Theft', 'Theft of Vehicle', 'Assault', 'Breaking & Entering',\n",
    "       'Robbery', 'Other Sexual Offense', 'Sexual Assault', 'Homicide',\n",
    "       'Sexual Offense'], ordered=True)\n",
    "CD['crime_type'] = pd.factorize(CD['parent_incident_type'], sort=True)[0] + 1 \n",
    "CD.head(5)"
   ]
  },
  {
   "cell_type": "code",
   "execution_count": 24,
   "metadata": {},
   "outputs": [
    {
     "data": {
      "text/plain": [
       "(164116, 11)"
      ]
     },
     "execution_count": 24,
     "metadata": {},
     "output_type": "execute_result"
    }
   ],
   "source": [
    "begin = pd.Timestamp('2010-07-16')\n",
    "end = pd.Timestamp('2020-07-16')\n",
    "\n",
    "CD = CD[(CD['incident_datetime'] > begin) & (CD['incident_datetime'] <= end)]\n",
    "\n",
    "CD.head(5)\n",
    "CD.shape"
   ]
  },
  {
   "cell_type": "markdown",
   "metadata": {},
   "source": [
    "##### We will be using a numpy array to create our machine learning models\n",
    "##### The variables we will be including are hour of day, day, crime type, police district, zip code, and neighborhood"
   ]
  },
  {
   "cell_type": "code",
   "execution_count": 25,
   "metadata": {},
   "outputs": [],
   "source": [
    "data = CD.to_numpy()"
   ]
  },
  {
   "cell_type": "markdown",
   "metadata": {},
   "source": [
    "##### We will be using day, police district, zip code, neighborhood as features to determine target variable crime type"
   ]
  },
  {
   "cell_type": "code",
   "execution_count": 27,
   "metadata": {},
   "outputs": [],
   "source": [
    "data = data[:,(3,6,7,8,9,10)]"
   ]
  },
  {
   "cell_type": "code",
   "execution_count": 28,
   "metadata": {},
   "outputs": [],
   "source": [
    "data = data.astype(int)"
   ]
  },
  {
   "cell_type": "markdown",
   "metadata": {},
   "source": [
    "##### I decided to use the classifiers Random Forest, Decision Tree, KNN, and Logistic Regression"
   ]
  },
  {
   "cell_type": "code",
   "execution_count": 29,
   "metadata": {},
   "outputs": [],
   "source": [
    "from sklearn.model_selection import train_test_split \n",
    "from sklearn.preprocessing import MinMaxScaler\n",
    "from sklearn.svm import SVC\n",
    "from sklearn.tree import DecisionTreeClassifier\n",
    "from sklearn.linear_model import LogisticRegression\n",
    "from sklearn.neighbors import KNeighborsClassifier\n",
    "from sklearn.model_selection import GridSearchCV\n",
    "from sklearn.ensemble import RandomForestClassifier\n",
    "import matplotlib.pyplot as plt\n",
    "from sklearn import metrics\n",
    "\n",
    "X_train, X_test, Y_train, Y_test = train_test_split(data[:,(0,1,2,3,4)], data[:,5], test_size=0.2)"
   ]
  },
  {
   "cell_type": "code",
   "execution_count": 30,
   "metadata": {},
   "outputs": [
    {
     "name": "stderr",
     "output_type": "stream",
     "text": [
      "C:\\ProgramData\\Anaconda3\\lib\\site-packages\\sklearn\\ensemble\\forest.py:245: FutureWarning: The default value of n_estimators will change from 10 in version 0.20 to 100 in 0.22.\n",
      "  \"10 in version 0.20 to 100 in 0.22.\", FutureWarning)\n"
     ]
    },
    {
     "data": {
      "text/plain": [
       "'Random Forest Classifier Score: '"
      ]
     },
     "metadata": {},
     "output_type": "display_data"
    },
    {
     "data": {
      "text/plain": [
       "0.4257250792103339"
      ]
     },
     "metadata": {},
     "output_type": "display_data"
    }
   ],
   "source": [
    "#Random Forest Classifier\n",
    "RF = RandomForestClassifier()\n",
    "RF.fit(X_train,Y_train)\n",
    "# Making the prediction\n",
    "y_pred1 = RF.predict(X_test)\n",
    "display('Random Forest Classifier Score: ', metrics.accuracy_score(Y_test,y_pred1))"
   ]
  },
  {
   "cell_type": "code",
   "execution_count": 31,
   "metadata": {},
   "outputs": [
    {
     "data": {
      "text/plain": [
       "'Decision Tree Classifier Score: '"
      ]
     },
     "metadata": {},
     "output_type": "display_data"
    },
    {
     "data": {
      "text/plain": [
       "0.4346514745308311"
      ]
     },
     "metadata": {},
     "output_type": "display_data"
    }
   ],
   "source": [
    "#Decision Tree Classifier\n",
    "giniImp = DecisionTreeClassifier(criterion = \"gini\", random_state=100)\n",
    "giniImp.fit(X_train,Y_train)\n",
    "# Making the prediction\n",
    "y_pred2 = giniImp.predict(X_test)\n",
    "display('Decision Tree Classifier Score: ', metrics.accuracy_score(Y_test,y_pred2))"
   ]
  },
  {
   "cell_type": "code",
   "execution_count": 32,
   "metadata": {},
   "outputs": [
    {
     "data": {
      "text/plain": [
       "'KNN Classifier Score: '"
      ]
     },
     "metadata": {},
     "output_type": "display_data"
    },
    {
     "data": {
      "text/plain": [
       "0.4097611503777724"
      ]
     },
     "metadata": {},
     "output_type": "display_data"
    }
   ],
   "source": [
    "#KNN Classifier \n",
    "neigh = KNeighborsClassifier(n_neighbors = 5)\n",
    "neigh.fit(X_train,Y_train)\n",
    "y_pred3 = neigh.predict(X_test)\n",
    "# Making the prediction\n",
    "display('KNN Classifier Score: ', metrics.accuracy_score(Y_test,y_pred3))"
   ]
  },
  {
   "cell_type": "code",
   "execution_count": 33,
   "metadata": {},
   "outputs": [
    {
     "name": "stderr",
     "output_type": "stream",
     "text": [
      "C:\\ProgramData\\Anaconda3\\lib\\site-packages\\sklearn\\linear_model\\sag.py:337: ConvergenceWarning: The max_iter was reached which means the coef_ did not converge\n",
      "  \"the coef_ did not converge\", ConvergenceWarning)\n"
     ]
    },
    {
     "data": {
      "text/plain": [
       "'Logistic Regression Classifier Score: '"
      ]
     },
     "metadata": {},
     "output_type": "display_data"
    },
    {
     "data": {
      "text/plain": [
       "0.44702047282476237"
      ]
     },
     "metadata": {},
     "output_type": "display_data"
    }
   ],
   "source": [
    "#Logisitic Regression Classifier\n",
    "lrmodel = LogisticRegression(multi_class = 'multinomial', solver = 'sag', C = 1000)\n",
    "lrmodel.fit(X_train,Y_train)\n",
    "# Making the prediction\n",
    "y_pred4 = lrmodel.predict(X_test)\n",
    "display('Logistic Regression Classifier Score: ', metrics.accuracy_score(Y_test,y_pred4))"
   ]
  },
  {
   "cell_type": "markdown",
   "metadata": {},
   "source": [
    "##### DO NOT RUN, I was unable to run SVM due to speed"
   ]
  },
  {
   "cell_type": "code",
   "execution_count": null,
   "metadata": {},
   "outputs": [],
   "source": [
    "##### DO NOT RUN, took very long time with no result\n",
    "#SVM Classifier \n",
    "svclass = SVC(kernel='linear', gamma = 'auto', C = 1000)\n",
    "svclass.fit(X_train,Y_train)\n",
    "# Making the prediction\n",
    "y_pred5 = svclass.predict(X_test)\n",
    "display('SVM Classifier Score: ', metrics.accuracy_score(Y_test,y_pred5))"
   ]
  },
  {
   "cell_type": "markdown",
   "metadata": {},
   "source": [
    "##### I checked to see if scaling the data would give better results for the machine learning models"
   ]
  },
  {
   "cell_type": "code",
   "execution_count": 34,
   "metadata": {},
   "outputs": [
    {
     "name": "stderr",
     "output_type": "stream",
     "text": [
      "C:\\ProgramData\\Anaconda3\\lib\\site-packages\\sklearn\\ensemble\\forest.py:245: FutureWarning: The default value of n_estimators will change from 10 in version 0.20 to 100 in 0.22.\n",
      "  \"10 in version 0.20 to 100 in 0.22.\", FutureWarning)\n"
     ]
    },
    {
     "data": {
      "text/plain": [
       "'Random Forest Classifier Score: '"
      ]
     },
     "metadata": {},
     "output_type": "display_data"
    },
    {
     "data": {
      "text/plain": [
       "0.4260906653668048"
      ]
     },
     "metadata": {},
     "output_type": "display_data"
    },
    {
     "data": {
      "text/plain": [
       "'Decision Tree Classifier Score: '"
      ]
     },
     "metadata": {},
     "output_type": "display_data"
    },
    {
     "data": {
      "text/plain": [
       "0.4347124055569096"
      ]
     },
     "metadata": {},
     "output_type": "display_data"
    },
    {
     "data": {
      "text/plain": [
       "'KNN Classifier Score: '"
      ]
     },
     "metadata": {},
     "output_type": "display_data"
    },
    {
     "data": {
      "text/plain": [
       "0.4069887886912016"
      ]
     },
     "metadata": {},
     "output_type": "display_data"
    },
    {
     "data": {
      "text/plain": [
       "'Logistic Regression Classifier Score: '"
      ]
     },
     "metadata": {},
     "output_type": "display_data"
    },
    {
     "data": {
      "text/plain": [
       "0.44702047282476237"
      ]
     },
     "metadata": {},
     "output_type": "display_data"
    }
   ],
   "source": [
    "## USING SCALED DATA\n",
    "X = np.vstack((X_train, X_test))\n",
    "scaler = MinMaxScaler()\n",
    "scaler.fit(X)\n",
    "X = scaler.transform(X)\n",
    "X_train = X[0:X_train.shape[0],:]\n",
    "X_test = X[X_train.shape[0]:X.shape[0], :]\n",
    "#display(data.shape, X_train.shape, X_test.shape, Y_train.shape, Y_test.shape)\n",
    "\n",
    "#Random Forest Classifier\n",
    "RF = RandomForestClassifier()\n",
    "RF.fit(X_train,Y_train)\n",
    "# Making the prediction\n",
    "y_pred1 = RF.predict(X_test)\n",
    "display('Random Forest Classifier Score: ', metrics.accuracy_score(Y_test,y_pred1))\n",
    "\n",
    "#Decision Tree Classifier\n",
    "giniImp = DecisionTreeClassifier(criterion = \"gini\", random_state=100)\n",
    "giniImp.fit(X_train,Y_train)\n",
    "# make prediction \n",
    "y_pred2 = giniImp.predict(X_test)\n",
    "display('Decision Tree Classifier Score: ', metrics.accuracy_score(Y_test,y_pred2))\n",
    "\n",
    "#KNN Classifier \n",
    "neigh = KNeighborsClassifier(n_neighbors = 5)\n",
    "neigh.fit(X_train,Y_train)\n",
    "# Making the prediction\n",
    "y_pred3 = neigh.predict(X_test)\n",
    "display('KNN Classifier Score: ', metrics.accuracy_score(Y_test,y_pred3))\n",
    "\n",
    "#Logisitic Regression Classifier\n",
    "lrmodel = LogisticRegression(multi_class = 'multinomial', solver = 'sag', C = 1000)\n",
    "lrmodel.fit(X_train,Y_train)\n",
    "# Making the prediction\n",
    "y_pred4 = lrmodel.predict(X_test)\n",
    "display('Logistic Regression Classifier Score: ', metrics.accuracy_score(Y_test,y_pred4))"
   ]
  },
  {
   "cell_type": "markdown",
   "metadata": {},
   "source": [
    "##### After several attempts of trying to better the accuracy on various models, I have concluded that these features might not be enough information to determine what kind of crime has occurred. The next step to this problem might be to find better features that can better predict the target variable (type of crime)"
   ]
  },
  {
   "cell_type": "markdown",
   "metadata": {},
   "source": [
    "# PART III"
   ]
  },
  {
   "cell_type": "markdown",
   "metadata": {},
   "source": [
    "##### The following API allows me to get weather data for a certain time period in a certain area I am creating a csv of weather conditions from 2010 to 2012 in buffalo to do some analysis between the weather and the crimes committed on a date"
   ]
  },
  {
   "cell_type": "markdown",
   "metadata": {},
   "source": [
    "##### to get this data please follow this article https://towardsdatascience.com/obtain-historical-weather-forecast-data-in-csv-format-using-python-5a6c090fc828"
   ]
  },
  {
   "cell_type": "code",
   "execution_count": 35,
   "metadata": {},
   "outputs": [],
   "source": [
    "from wwo_hist import retrieve_hist_data"
   ]
  },
  {
   "cell_type": "code",
   "execution_count": null,
   "metadata": {},
   "outputs": [],
   "source": [
    "frequency=3\n",
    "start_date = '07-JUL-2010'\n",
    "end_date = '07-JUL-2012'\n",
    "api_key = 'f0c1dcecf70244538a303411201607'\n",
    "location_list = ['buffalo']\n",
    "\n",
    "hist_weather_data = retrieve_hist_data(api_key,\n",
    "                                location_list,\n",
    "                                start_date,\n",
    "                                end_date,\n",
    "                                frequency,\n",
    "                                location_label = False,\n",
    "                                export_csv = True,\n",
    "                                store_df = True)"
   ]
  },
  {
   "cell_type": "code",
   "execution_count": 36,
   "metadata": {},
   "outputs": [],
   "source": [
    "begin = pd.Timestamp('2010-07-07')\n",
    "end = pd.Timestamp('2012-07-07')\n",
    "\n",
    "CD = CD[(CD['incident_datetime'] > begin) & (CD['incident_datetime'] <= end)]"
   ]
  },
  {
   "cell_type": "code",
   "execution_count": 37,
   "metadata": {},
   "outputs": [
    {
     "data": {
      "text/html": [
       "<div>\n",
       "<style scoped>\n",
       "    .dataframe tbody tr th:only-of-type {\n",
       "        vertical-align: middle;\n",
       "    }\n",
       "\n",
       "    .dataframe tbody tr th {\n",
       "        vertical-align: top;\n",
       "    }\n",
       "\n",
       "    .dataframe thead th {\n",
       "        text-align: right;\n",
       "    }\n",
       "</style>\n",
       "<table border=\"1\" class=\"dataframe\">\n",
       "  <thead>\n",
       "    <tr style=\"text-align: right;\">\n",
       "      <th></th>\n",
       "      <th>incident_id</th>\n",
       "      <th>case_number</th>\n",
       "      <th>incident_datetime</th>\n",
       "      <th>hour_of_day</th>\n",
       "      <th>day_of_week</th>\n",
       "      <th>parent_incident_type</th>\n",
       "      <th>Police Districts</th>\n",
       "      <th>Zip Codes</th>\n",
       "      <th>Neighborhoods</th>\n",
       "      <th>day</th>\n",
       "      <th>crime_type</th>\n",
       "    </tr>\n",
       "  </thead>\n",
       "  <tbody>\n",
       "    <tr>\n",
       "      <th>88811</th>\n",
       "      <td>40457978</td>\n",
       "      <td>10-1970204</td>\n",
       "      <td>2010-07-16 00:01:00</td>\n",
       "      <td>0</td>\n",
       "      <td>Friday</td>\n",
       "      <td>Breaking &amp; Entering</td>\n",
       "      <td>5.0</td>\n",
       "      <td>5.0</td>\n",
       "      <td>25.0</td>\n",
       "      <td>6</td>\n",
       "      <td>4</td>\n",
       "    </tr>\n",
       "    <tr>\n",
       "      <th>88812</th>\n",
       "      <td>40504253</td>\n",
       "      <td>10-1980751</td>\n",
       "      <td>2010-07-16 00:17:00</td>\n",
       "      <td>0</td>\n",
       "      <td>Friday</td>\n",
       "      <td>Theft</td>\n",
       "      <td>3.0</td>\n",
       "      <td>17.0</td>\n",
       "      <td>8.0</td>\n",
       "      <td>6</td>\n",
       "      <td>1</td>\n",
       "    </tr>\n",
       "    <tr>\n",
       "      <th>88813</th>\n",
       "      <td>40458017</td>\n",
       "      <td>10-1970208</td>\n",
       "      <td>2010-07-16 00:30:00</td>\n",
       "      <td>0</td>\n",
       "      <td>Friday</td>\n",
       "      <td>Theft</td>\n",
       "      <td>5.0</td>\n",
       "      <td>5.0</td>\n",
       "      <td>25.0</td>\n",
       "      <td>6</td>\n",
       "      <td>1</td>\n",
       "    </tr>\n",
       "    <tr>\n",
       "      <th>88814</th>\n",
       "      <td>40459343</td>\n",
       "      <td>10-1970626</td>\n",
       "      <td>2010-07-16 01:00:00</td>\n",
       "      <td>1</td>\n",
       "      <td>Friday</td>\n",
       "      <td>Robbery</td>\n",
       "      <td>3.0</td>\n",
       "      <td>4.0</td>\n",
       "      <td>1.0</td>\n",
       "      <td>6</td>\n",
       "      <td>5</td>\n",
       "    </tr>\n",
       "    <tr>\n",
       "      <th>88815</th>\n",
       "      <td>40458013</td>\n",
       "      <td>10-1970274</td>\n",
       "      <td>2010-07-16 01:00:00</td>\n",
       "      <td>1</td>\n",
       "      <td>Friday</td>\n",
       "      <td>Theft</td>\n",
       "      <td>1.0</td>\n",
       "      <td>15.0</td>\n",
       "      <td>29.0</td>\n",
       "      <td>6</td>\n",
       "      <td>1</td>\n",
       "    </tr>\n",
       "  </tbody>\n",
       "</table>\n",
       "</div>"
      ],
      "text/plain": [
       "       incident_id case_number   incident_datetime  hour_of_day day_of_week  \\\n",
       "88811     40457978  10-1970204 2010-07-16 00:01:00            0      Friday   \n",
       "88812     40504253  10-1980751 2010-07-16 00:17:00            0      Friday   \n",
       "88813     40458017  10-1970208 2010-07-16 00:30:00            0      Friday   \n",
       "88814     40459343  10-1970626 2010-07-16 01:00:00            1      Friday   \n",
       "88815     40458013  10-1970274 2010-07-16 01:00:00            1      Friday   \n",
       "\n",
       "      parent_incident_type  Police Districts  Zip Codes  Neighborhoods   day  \\\n",
       "88811  Breaking & Entering               5.0        5.0            25.0    6   \n",
       "88812                Theft               3.0       17.0             8.0    6   \n",
       "88813                Theft               5.0        5.0            25.0    6   \n",
       "88814              Robbery               3.0        4.0             1.0    6   \n",
       "88815                Theft               1.0       15.0            29.0    6   \n",
       "\n",
       "       crime_type  \n",
       "88811           4  \n",
       "88812           1  \n",
       "88813           1  \n",
       "88814           5  \n",
       "88815           1  "
      ]
     },
     "execution_count": 37,
     "metadata": {},
     "output_type": "execute_result"
    }
   ],
   "source": [
    "CD.head(5)"
   ]
  },
  {
   "cell_type": "code",
   "execution_count": 38,
   "metadata": {},
   "outputs": [
    {
     "data": {
      "text/html": [
       "<div>\n",
       "<style scoped>\n",
       "    .dataframe tbody tr th:only-of-type {\n",
       "        vertical-align: middle;\n",
       "    }\n",
       "\n",
       "    .dataframe tbody tr th {\n",
       "        vertical-align: top;\n",
       "    }\n",
       "\n",
       "    .dataframe thead th {\n",
       "        text-align: right;\n",
       "    }\n",
       "</style>\n",
       "<table border=\"1\" class=\"dataframe\">\n",
       "  <thead>\n",
       "    <tr style=\"text-align: right;\">\n",
       "      <th></th>\n",
       "      <th>date_time</th>\n",
       "      <th>maxtempC</th>\n",
       "      <th>mintempC</th>\n",
       "      <th>totalSnow_cm</th>\n",
       "      <th>sunHour</th>\n",
       "      <th>uvIndex</th>\n",
       "      <th>moon_illumination</th>\n",
       "      <th>moonrise</th>\n",
       "      <th>moonset</th>\n",
       "      <th>sunrise</th>\n",
       "      <th>...</th>\n",
       "      <th>WindGustKmph</th>\n",
       "      <th>cloudcover</th>\n",
       "      <th>humidity</th>\n",
       "      <th>precipMM</th>\n",
       "      <th>pressure</th>\n",
       "      <th>tempC</th>\n",
       "      <th>visibility</th>\n",
       "      <th>winddirDegree</th>\n",
       "      <th>windspeedKmph</th>\n",
       "      <th>location</th>\n",
       "    </tr>\n",
       "  </thead>\n",
       "  <tbody>\n",
       "    <tr>\n",
       "      <th>0</th>\n",
       "      <td>2010-07-07 00:00:00</td>\n",
       "      <td>34</td>\n",
       "      <td>21</td>\n",
       "      <td>0.0</td>\n",
       "      <td>14.5</td>\n",
       "      <td>7</td>\n",
       "      <td>21</td>\n",
       "      <td>01:41 AM</td>\n",
       "      <td>05:05 PM</td>\n",
       "      <td>05:44 AM</td>\n",
       "      <td>...</td>\n",
       "      <td>23</td>\n",
       "      <td>0</td>\n",
       "      <td>71</td>\n",
       "      <td>0.0</td>\n",
       "      <td>1018</td>\n",
       "      <td>22</td>\n",
       "      <td>10</td>\n",
       "      <td>211</td>\n",
       "      <td>11</td>\n",
       "      <td>buffalo</td>\n",
       "    </tr>\n",
       "    <tr>\n",
       "      <th>1</th>\n",
       "      <td>2010-07-07 03:00:00</td>\n",
       "      <td>34</td>\n",
       "      <td>21</td>\n",
       "      <td>0.0</td>\n",
       "      <td>14.5</td>\n",
       "      <td>7</td>\n",
       "      <td>21</td>\n",
       "      <td>01:41 AM</td>\n",
       "      <td>05:05 PM</td>\n",
       "      <td>05:44 AM</td>\n",
       "      <td>...</td>\n",
       "      <td>21</td>\n",
       "      <td>0</td>\n",
       "      <td>76</td>\n",
       "      <td>0.0</td>\n",
       "      <td>1018</td>\n",
       "      <td>21</td>\n",
       "      <td>10</td>\n",
       "      <td>219</td>\n",
       "      <td>10</td>\n",
       "      <td>buffalo</td>\n",
       "    </tr>\n",
       "    <tr>\n",
       "      <th>2</th>\n",
       "      <td>2010-07-07 06:00:00</td>\n",
       "      <td>34</td>\n",
       "      <td>21</td>\n",
       "      <td>0.0</td>\n",
       "      <td>14.5</td>\n",
       "      <td>7</td>\n",
       "      <td>21</td>\n",
       "      <td>01:41 AM</td>\n",
       "      <td>05:05 PM</td>\n",
       "      <td>05:44 AM</td>\n",
       "      <td>...</td>\n",
       "      <td>9</td>\n",
       "      <td>8</td>\n",
       "      <td>72</td>\n",
       "      <td>0.0</td>\n",
       "      <td>1019</td>\n",
       "      <td>25</td>\n",
       "      <td>10</td>\n",
       "      <td>229</td>\n",
       "      <td>7</td>\n",
       "      <td>buffalo</td>\n",
       "    </tr>\n",
       "    <tr>\n",
       "      <th>3</th>\n",
       "      <td>2010-07-07 09:00:00</td>\n",
       "      <td>34</td>\n",
       "      <td>21</td>\n",
       "      <td>0.0</td>\n",
       "      <td>14.5</td>\n",
       "      <td>7</td>\n",
       "      <td>21</td>\n",
       "      <td>01:41 AM</td>\n",
       "      <td>05:05 PM</td>\n",
       "      <td>05:44 AM</td>\n",
       "      <td>...</td>\n",
       "      <td>10</td>\n",
       "      <td>24</td>\n",
       "      <td>51</td>\n",
       "      <td>0.0</td>\n",
       "      <td>1018</td>\n",
       "      <td>31</td>\n",
       "      <td>10</td>\n",
       "      <td>268</td>\n",
       "      <td>8</td>\n",
       "      <td>buffalo</td>\n",
       "    </tr>\n",
       "    <tr>\n",
       "      <th>4</th>\n",
       "      <td>2010-07-07 12:00:00</td>\n",
       "      <td>34</td>\n",
       "      <td>21</td>\n",
       "      <td>0.0</td>\n",
       "      <td>14.5</td>\n",
       "      <td>7</td>\n",
       "      <td>21</td>\n",
       "      <td>01:41 AM</td>\n",
       "      <td>05:05 PM</td>\n",
       "      <td>05:44 AM</td>\n",
       "      <td>...</td>\n",
       "      <td>6</td>\n",
       "      <td>49</td>\n",
       "      <td>43</td>\n",
       "      <td>0.0</td>\n",
       "      <td>1018</td>\n",
       "      <td>34</td>\n",
       "      <td>10</td>\n",
       "      <td>234</td>\n",
       "      <td>5</td>\n",
       "      <td>buffalo</td>\n",
       "    </tr>\n",
       "  </tbody>\n",
       "</table>\n",
       "<p>5 rows × 25 columns</p>\n",
       "</div>"
      ],
      "text/plain": [
       "             date_time  maxtempC  mintempC  totalSnow_cm  sunHour  uvIndex  \\\n",
       "0  2010-07-07 00:00:00        34        21           0.0     14.5        7   \n",
       "1  2010-07-07 03:00:00        34        21           0.0     14.5        7   \n",
       "2  2010-07-07 06:00:00        34        21           0.0     14.5        7   \n",
       "3  2010-07-07 09:00:00        34        21           0.0     14.5        7   \n",
       "4  2010-07-07 12:00:00        34        21           0.0     14.5        7   \n",
       "\n",
       "   moon_illumination  moonrise   moonset   sunrise  ... WindGustKmph  \\\n",
       "0                 21  01:41 AM  05:05 PM  05:44 AM  ...           23   \n",
       "1                 21  01:41 AM  05:05 PM  05:44 AM  ...           21   \n",
       "2                 21  01:41 AM  05:05 PM  05:44 AM  ...            9   \n",
       "3                 21  01:41 AM  05:05 PM  05:44 AM  ...           10   \n",
       "4                 21  01:41 AM  05:05 PM  05:44 AM  ...            6   \n",
       "\n",
       "   cloudcover  humidity  precipMM  pressure  tempC  visibility  winddirDegree  \\\n",
       "0           0        71       0.0      1018     22          10            211   \n",
       "1           0        76       0.0      1018     21          10            219   \n",
       "2           8        72       0.0      1019     25          10            229   \n",
       "3          24        51       0.0      1018     31          10            268   \n",
       "4          49        43       0.0      1018     34          10            234   \n",
       "\n",
       "   windspeedKmph  location  \n",
       "0             11   buffalo  \n",
       "1             10   buffalo  \n",
       "2              7   buffalo  \n",
       "3              8   buffalo  \n",
       "4              5   buffalo  \n",
       "\n",
       "[5 rows x 25 columns]"
      ]
     },
     "execution_count": 38,
     "metadata": {},
     "output_type": "execute_result"
    }
   ],
   "source": [
    "buff = pd.read_csv('buffalo.csv')\n",
    "buff.head(5)"
   ]
  },
  {
   "cell_type": "code",
   "execution_count": 39,
   "metadata": {},
   "outputs": [],
   "source": [
    "buff['date_time'] = pd.to_datetime(buff.date_time)"
   ]
  },
  {
   "cell_type": "markdown",
   "metadata": {},
   "source": [
    "##### We can join the dataframes based on closest equivalent date and time"
   ]
  },
  {
   "cell_type": "code",
   "execution_count": 40,
   "metadata": {},
   "outputs": [
    {
     "data": {
      "text/html": [
       "<div>\n",
       "<style scoped>\n",
       "    .dataframe tbody tr th:only-of-type {\n",
       "        vertical-align: middle;\n",
       "    }\n",
       "\n",
       "    .dataframe tbody tr th {\n",
       "        vertical-align: top;\n",
       "    }\n",
       "\n",
       "    .dataframe thead th {\n",
       "        text-align: right;\n",
       "    }\n",
       "</style>\n",
       "<table border=\"1\" class=\"dataframe\">\n",
       "  <thead>\n",
       "    <tr style=\"text-align: right;\">\n",
       "      <th></th>\n",
       "      <th>incident_id</th>\n",
       "      <th>case_number</th>\n",
       "      <th>incident_datetime</th>\n",
       "      <th>hour_of_day</th>\n",
       "      <th>day_of_week</th>\n",
       "      <th>parent_incident_type</th>\n",
       "      <th>Police Districts</th>\n",
       "      <th>Zip Codes</th>\n",
       "      <th>Neighborhoods</th>\n",
       "      <th>day</th>\n",
       "      <th>...</th>\n",
       "      <th>WindGustKmph</th>\n",
       "      <th>cloudcover</th>\n",
       "      <th>humidity</th>\n",
       "      <th>precipMM</th>\n",
       "      <th>pressure</th>\n",
       "      <th>tempC</th>\n",
       "      <th>visibility</th>\n",
       "      <th>winddirDegree</th>\n",
       "      <th>windspeedKmph</th>\n",
       "      <th>location</th>\n",
       "    </tr>\n",
       "    <tr>\n",
       "      <th>incident_datetime</th>\n",
       "      <th></th>\n",
       "      <th></th>\n",
       "      <th></th>\n",
       "      <th></th>\n",
       "      <th></th>\n",
       "      <th></th>\n",
       "      <th></th>\n",
       "      <th></th>\n",
       "      <th></th>\n",
       "      <th></th>\n",
       "      <th></th>\n",
       "      <th></th>\n",
       "      <th></th>\n",
       "      <th></th>\n",
       "      <th></th>\n",
       "      <th></th>\n",
       "      <th></th>\n",
       "      <th></th>\n",
       "      <th></th>\n",
       "      <th></th>\n",
       "      <th></th>\n",
       "    </tr>\n",
       "  </thead>\n",
       "  <tbody>\n",
       "    <tr>\n",
       "      <th>2010-07-16 00:01:00</th>\n",
       "      <td>40457978</td>\n",
       "      <td>10-1970204</td>\n",
       "      <td>2010-07-16 00:01:00</td>\n",
       "      <td>0</td>\n",
       "      <td>Friday</td>\n",
       "      <td>Breaking &amp; Entering</td>\n",
       "      <td>5.0</td>\n",
       "      <td>5.0</td>\n",
       "      <td>25.0</td>\n",
       "      <td>6</td>\n",
       "      <td>...</td>\n",
       "      <td>26</td>\n",
       "      <td>31</td>\n",
       "      <td>69</td>\n",
       "      <td>0.0</td>\n",
       "      <td>1012</td>\n",
       "      <td>24</td>\n",
       "      <td>10</td>\n",
       "      <td>208</td>\n",
       "      <td>13</td>\n",
       "      <td>buffalo</td>\n",
       "    </tr>\n",
       "    <tr>\n",
       "      <th>2010-07-16 00:17:00</th>\n",
       "      <td>40504253</td>\n",
       "      <td>10-1980751</td>\n",
       "      <td>2010-07-16 00:17:00</td>\n",
       "      <td>0</td>\n",
       "      <td>Friday</td>\n",
       "      <td>Theft</td>\n",
       "      <td>3.0</td>\n",
       "      <td>17.0</td>\n",
       "      <td>8.0</td>\n",
       "      <td>6</td>\n",
       "      <td>...</td>\n",
       "      <td>26</td>\n",
       "      <td>31</td>\n",
       "      <td>69</td>\n",
       "      <td>0.0</td>\n",
       "      <td>1012</td>\n",
       "      <td>24</td>\n",
       "      <td>10</td>\n",
       "      <td>208</td>\n",
       "      <td>13</td>\n",
       "      <td>buffalo</td>\n",
       "    </tr>\n",
       "    <tr>\n",
       "      <th>2010-07-16 00:30:00</th>\n",
       "      <td>40458017</td>\n",
       "      <td>10-1970208</td>\n",
       "      <td>2010-07-16 00:30:00</td>\n",
       "      <td>0</td>\n",
       "      <td>Friday</td>\n",
       "      <td>Theft</td>\n",
       "      <td>5.0</td>\n",
       "      <td>5.0</td>\n",
       "      <td>25.0</td>\n",
       "      <td>6</td>\n",
       "      <td>...</td>\n",
       "      <td>26</td>\n",
       "      <td>31</td>\n",
       "      <td>69</td>\n",
       "      <td>0.0</td>\n",
       "      <td>1012</td>\n",
       "      <td>24</td>\n",
       "      <td>10</td>\n",
       "      <td>208</td>\n",
       "      <td>13</td>\n",
       "      <td>buffalo</td>\n",
       "    </tr>\n",
       "    <tr>\n",
       "      <th>2010-07-16 01:00:00</th>\n",
       "      <td>40459343</td>\n",
       "      <td>10-1970626</td>\n",
       "      <td>2010-07-16 01:00:00</td>\n",
       "      <td>1</td>\n",
       "      <td>Friday</td>\n",
       "      <td>Robbery</td>\n",
       "      <td>3.0</td>\n",
       "      <td>4.0</td>\n",
       "      <td>1.0</td>\n",
       "      <td>6</td>\n",
       "      <td>...</td>\n",
       "      <td>26</td>\n",
       "      <td>31</td>\n",
       "      <td>69</td>\n",
       "      <td>0.0</td>\n",
       "      <td>1012</td>\n",
       "      <td>24</td>\n",
       "      <td>10</td>\n",
       "      <td>208</td>\n",
       "      <td>13</td>\n",
       "      <td>buffalo</td>\n",
       "    </tr>\n",
       "    <tr>\n",
       "      <th>2010-07-16 01:00:00</th>\n",
       "      <td>40458013</td>\n",
       "      <td>10-1970274</td>\n",
       "      <td>2010-07-16 01:00:00</td>\n",
       "      <td>1</td>\n",
       "      <td>Friday</td>\n",
       "      <td>Theft</td>\n",
       "      <td>1.0</td>\n",
       "      <td>15.0</td>\n",
       "      <td>29.0</td>\n",
       "      <td>6</td>\n",
       "      <td>...</td>\n",
       "      <td>26</td>\n",
       "      <td>31</td>\n",
       "      <td>69</td>\n",
       "      <td>0.0</td>\n",
       "      <td>1012</td>\n",
       "      <td>24</td>\n",
       "      <td>10</td>\n",
       "      <td>208</td>\n",
       "      <td>13</td>\n",
       "      <td>buffalo</td>\n",
       "    </tr>\n",
       "  </tbody>\n",
       "</table>\n",
       "<p>5 rows × 36 columns</p>\n",
       "</div>"
      ],
      "text/plain": [
       "                     incident_id case_number   incident_datetime  hour_of_day  \\\n",
       "incident_datetime                                                               \n",
       "2010-07-16 00:01:00     40457978  10-1970204 2010-07-16 00:01:00            0   \n",
       "2010-07-16 00:17:00     40504253  10-1980751 2010-07-16 00:17:00            0   \n",
       "2010-07-16 00:30:00     40458017  10-1970208 2010-07-16 00:30:00            0   \n",
       "2010-07-16 01:00:00     40459343  10-1970626 2010-07-16 01:00:00            1   \n",
       "2010-07-16 01:00:00     40458013  10-1970274 2010-07-16 01:00:00            1   \n",
       "\n",
       "                    day_of_week parent_incident_type  Police Districts  \\\n",
       "incident_datetime                                                        \n",
       "2010-07-16 00:01:00      Friday  Breaking & Entering               5.0   \n",
       "2010-07-16 00:17:00      Friday                Theft               3.0   \n",
       "2010-07-16 00:30:00      Friday                Theft               5.0   \n",
       "2010-07-16 01:00:00      Friday              Robbery               3.0   \n",
       "2010-07-16 01:00:00      Friday                Theft               1.0   \n",
       "\n",
       "                     Zip Codes  Neighborhoods   day  ...  WindGustKmph  \\\n",
       "incident_datetime                                    ...                 \n",
       "2010-07-16 00:01:00        5.0            25.0    6  ...            26   \n",
       "2010-07-16 00:17:00       17.0             8.0    6  ...            26   \n",
       "2010-07-16 00:30:00        5.0            25.0    6  ...            26   \n",
       "2010-07-16 01:00:00        4.0             1.0    6  ...            26   \n",
       "2010-07-16 01:00:00       15.0            29.0    6  ...            26   \n",
       "\n",
       "                    cloudcover  humidity  precipMM  pressure  tempC  \\\n",
       "incident_datetime                                                     \n",
       "2010-07-16 00:01:00         31        69       0.0      1012     24   \n",
       "2010-07-16 00:17:00         31        69       0.0      1012     24   \n",
       "2010-07-16 00:30:00         31        69       0.0      1012     24   \n",
       "2010-07-16 01:00:00         31        69       0.0      1012     24   \n",
       "2010-07-16 01:00:00         31        69       0.0      1012     24   \n",
       "\n",
       "                     visibility  winddirDegree windspeedKmph location  \n",
       "incident_datetime                                                      \n",
       "2010-07-16 00:01:00          10            208            13  buffalo  \n",
       "2010-07-16 00:17:00          10            208            13  buffalo  \n",
       "2010-07-16 00:30:00          10            208            13  buffalo  \n",
       "2010-07-16 01:00:00          10            208            13  buffalo  \n",
       "2010-07-16 01:00:00          10            208            13  buffalo  \n",
       "\n",
       "[5 rows x 36 columns]"
      ]
     },
     "execution_count": 40,
     "metadata": {},
     "output_type": "execute_result"
    }
   ],
   "source": [
    "CD.index = CD['incident_datetime']\n",
    "buff.index = buff['date_time']\n",
    "# the magic happens below, check the direction and tolerance arguments\n",
    "# if you want you can make a maximum tolerance on which to merge data\n",
    "tol = pd.Timedelta('3 day')\n",
    "both = pd.merge_asof(left=CD,right=buff,right_index=True,left_index=True,direction='nearest',tolerance=tol)\n",
    "both.head(5)"
   ]
  },
  {
   "cell_type": "code",
   "execution_count": 41,
   "metadata": {},
   "outputs": [
    {
     "data": {
      "text/plain": [
       "Index(['incident_id', 'case_number', 'incident_datetime', 'hour_of_day',\n",
       "       'day_of_week', 'parent_incident_type', 'Police Districts', 'Zip Codes',\n",
       "       'Neighborhoods ', 'day', 'crime_type', 'date_time', 'maxtempC',\n",
       "       'mintempC', 'totalSnow_cm', 'sunHour', 'uvIndex', 'moon_illumination',\n",
       "       'moonrise', 'moonset', 'sunrise', 'sunset', 'DewPointC', 'FeelsLikeC',\n",
       "       'HeatIndexC', 'WindChillC', 'WindGustKmph', 'cloudcover', 'humidity',\n",
       "       'precipMM', 'pressure', 'tempC', 'visibility', 'winddirDegree',\n",
       "       'windspeedKmph', 'location'],\n",
       "      dtype='object')"
      ]
     },
     "execution_count": 41,
     "metadata": {},
     "output_type": "execute_result"
    }
   ],
   "source": [
    "both.columns"
   ]
  },
  {
   "cell_type": "code",
   "execution_count": 42,
   "metadata": {},
   "outputs": [
    {
     "data": {
      "text/html": [
       "<div>\n",
       "<style scoped>\n",
       "    .dataframe tbody tr th:only-of-type {\n",
       "        vertical-align: middle;\n",
       "    }\n",
       "\n",
       "    .dataframe tbody tr th {\n",
       "        vertical-align: top;\n",
       "    }\n",
       "\n",
       "    .dataframe thead th {\n",
       "        text-align: right;\n",
       "    }\n",
       "</style>\n",
       "<table border=\"1\" class=\"dataframe\">\n",
       "  <thead>\n",
       "    <tr style=\"text-align: right;\">\n",
       "      <th></th>\n",
       "      <th>incident_id</th>\n",
       "      <th>hour_of_day</th>\n",
       "      <th>Police Districts</th>\n",
       "      <th>Zip Codes</th>\n",
       "      <th>Neighborhoods</th>\n",
       "      <th>day</th>\n",
       "      <th>crime_type</th>\n",
       "      <th>maxtempC</th>\n",
       "      <th>mintempC</th>\n",
       "      <th>totalSnow_cm</th>\n",
       "      <th>...</th>\n",
       "      <th>WindChillC</th>\n",
       "      <th>WindGustKmph</th>\n",
       "      <th>cloudcover</th>\n",
       "      <th>humidity</th>\n",
       "      <th>precipMM</th>\n",
       "      <th>pressure</th>\n",
       "      <th>tempC</th>\n",
       "      <th>visibility</th>\n",
       "      <th>winddirDegree</th>\n",
       "      <th>windspeedKmph</th>\n",
       "    </tr>\n",
       "  </thead>\n",
       "  <tbody>\n",
       "    <tr>\n",
       "      <th>count</th>\n",
       "      <td>3.927600e+04</td>\n",
       "      <td>39276.000000</td>\n",
       "      <td>39276.000000</td>\n",
       "      <td>39276.000000</td>\n",
       "      <td>39276.000000</td>\n",
       "      <td>39276.000000</td>\n",
       "      <td>39276.00000</td>\n",
       "      <td>39276.000000</td>\n",
       "      <td>39276.000000</td>\n",
       "      <td>39276.000000</td>\n",
       "      <td>...</td>\n",
       "      <td>39276.000000</td>\n",
       "      <td>39276.000000</td>\n",
       "      <td>39276.000000</td>\n",
       "      <td>39276.000000</td>\n",
       "      <td>39276.000000</td>\n",
       "      <td>39276.000000</td>\n",
       "      <td>39276.000000</td>\n",
       "      <td>39276.000000</td>\n",
       "      <td>39276.000000</td>\n",
       "      <td>39276.00000</td>\n",
       "    </tr>\n",
       "    <tr>\n",
       "      <th>mean</th>\n",
       "      <td>1.423019e+08</td>\n",
       "      <td>11.910123</td>\n",
       "      <td>2.874478</td>\n",
       "      <td>10.730064</td>\n",
       "      <td>16.975023</td>\n",
       "      <td>4.055734</td>\n",
       "      <td>2.49753</td>\n",
       "      <td>14.335676</td>\n",
       "      <td>7.113657</td>\n",
       "      <td>0.088036</td>\n",
       "      <td>...</td>\n",
       "      <td>8.945259</td>\n",
       "      <td>23.706462</td>\n",
       "      <td>45.766804</td>\n",
       "      <td>80.606121</td>\n",
       "      <td>0.202345</td>\n",
       "      <td>1014.970898</td>\n",
       "      <td>10.595300</td>\n",
       "      <td>8.726856</td>\n",
       "      <td>208.423847</td>\n",
       "      <td>14.42927</td>\n",
       "    </tr>\n",
       "    <tr>\n",
       "      <th>std</th>\n",
       "      <td>2.318733e+08</td>\n",
       "      <td>7.409469</td>\n",
       "      <td>1.488553</td>\n",
       "      <td>5.877961</td>\n",
       "      <td>9.930178</td>\n",
       "      <td>2.009076</td>\n",
       "      <td>1.52179</td>\n",
       "      <td>10.293120</td>\n",
       "      <td>8.946516</td>\n",
       "      <td>0.414733</td>\n",
       "      <td>...</td>\n",
       "      <td>11.822076</td>\n",
       "      <td>12.273041</td>\n",
       "      <td>36.445190</td>\n",
       "      <td>14.275468</td>\n",
       "      <td>0.939023</td>\n",
       "      <td>7.378610</td>\n",
       "      <td>9.716855</td>\n",
       "      <td>2.918488</td>\n",
       "      <td>90.452574</td>\n",
       "      <td>7.65490</td>\n",
       "    </tr>\n",
       "    <tr>\n",
       "      <th>min</th>\n",
       "      <td>4.045796e+07</td>\n",
       "      <td>0.000000</td>\n",
       "      <td>1.000000</td>\n",
       "      <td>1.000000</td>\n",
       "      <td>1.000000</td>\n",
       "      <td>1.000000</td>\n",
       "      <td>1.00000</td>\n",
       "      <td>-10.000000</td>\n",
       "      <td>-19.000000</td>\n",
       "      <td>0.000000</td>\n",
       "      <td>...</td>\n",
       "      <td>-23.000000</td>\n",
       "      <td>0.000000</td>\n",
       "      <td>0.000000</td>\n",
       "      <td>27.000000</td>\n",
       "      <td>0.000000</td>\n",
       "      <td>987.000000</td>\n",
       "      <td>-19.000000</td>\n",
       "      <td>0.000000</td>\n",
       "      <td>0.000000</td>\n",
       "      <td>0.00000</td>\n",
       "    </tr>\n",
       "    <tr>\n",
       "      <th>25%</th>\n",
       "      <td>5.570720e+07</td>\n",
       "      <td>6.000000</td>\n",
       "      <td>2.000000</td>\n",
       "      <td>5.000000</td>\n",
       "      <td>8.000000</td>\n",
       "      <td>2.000000</td>\n",
       "      <td>1.00000</td>\n",
       "      <td>6.000000</td>\n",
       "      <td>0.000000</td>\n",
       "      <td>0.000000</td>\n",
       "      <td>...</td>\n",
       "      <td>0.000000</td>\n",
       "      <td>15.000000</td>\n",
       "      <td>11.000000</td>\n",
       "      <td>71.000000</td>\n",
       "      <td>0.000000</td>\n",
       "      <td>1011.000000</td>\n",
       "      <td>3.000000</td>\n",
       "      <td>10.000000</td>\n",
       "      <td>160.000000</td>\n",
       "      <td>9.00000</td>\n",
       "    </tr>\n",
       "    <tr>\n",
       "      <th>50%</th>\n",
       "      <td>7.807798e+07</td>\n",
       "      <td>13.000000</td>\n",
       "      <td>3.000000</td>\n",
       "      <td>11.000000</td>\n",
       "      <td>16.000000</td>\n",
       "      <td>4.000000</td>\n",
       "      <td>2.00000</td>\n",
       "      <td>15.000000</td>\n",
       "      <td>7.000000</td>\n",
       "      <td>0.000000</td>\n",
       "      <td>...</td>\n",
       "      <td>10.000000</td>\n",
       "      <td>22.000000</td>\n",
       "      <td>39.000000</td>\n",
       "      <td>84.000000</td>\n",
       "      <td>0.000000</td>\n",
       "      <td>1015.000000</td>\n",
       "      <td>11.000000</td>\n",
       "      <td>10.000000</td>\n",
       "      <td>228.000000</td>\n",
       "      <td>13.00000</td>\n",
       "    </tr>\n",
       "    <tr>\n",
       "      <th>75%</th>\n",
       "      <td>1.009168e+08</td>\n",
       "      <td>18.000000</td>\n",
       "      <td>4.000000</td>\n",
       "      <td>16.000000</td>\n",
       "      <td>26.000000</td>\n",
       "      <td>6.000000</td>\n",
       "      <td>4.00000</td>\n",
       "      <td>24.000000</td>\n",
       "      <td>15.000000</td>\n",
       "      <td>0.000000</td>\n",
       "      <td>...</td>\n",
       "      <td>19.000000</td>\n",
       "      <td>31.000000</td>\n",
       "      <td>82.000000</td>\n",
       "      <td>93.000000</td>\n",
       "      <td>0.000000</td>\n",
       "      <td>1020.000000</td>\n",
       "      <td>19.000000</td>\n",
       "      <td>10.000000</td>\n",
       "      <td>271.000000</td>\n",
       "      <td>18.00000</td>\n",
       "    </tr>\n",
       "    <tr>\n",
       "      <th>max</th>\n",
       "      <td>9.441322e+08</td>\n",
       "      <td>23.000000</td>\n",
       "      <td>5.000000</td>\n",
       "      <td>23.000000</td>\n",
       "      <td>35.000000</td>\n",
       "      <td>7.000000</td>\n",
       "      <td>8.00000</td>\n",
       "      <td>31.000000</td>\n",
       "      <td>24.000000</td>\n",
       "      <td>6.400000</td>\n",
       "      <td>...</td>\n",
       "      <td>32.000000</td>\n",
       "      <td>103.000000</td>\n",
       "      <td>100.000000</td>\n",
       "      <td>100.000000</td>\n",
       "      <td>25.900000</td>\n",
       "      <td>1038.000000</td>\n",
       "      <td>31.000000</td>\n",
       "      <td>10.000000</td>\n",
       "      <td>360.000000</td>\n",
       "      <td>59.00000</td>\n",
       "    </tr>\n",
       "  </tbody>\n",
       "</table>\n",
       "<p>8 rows × 26 columns</p>\n",
       "</div>"
      ],
      "text/plain": [
       "        incident_id   hour_of_day  Police Districts     Zip Codes  \\\n",
       "count  3.927600e+04  39276.000000      39276.000000  39276.000000   \n",
       "mean   1.423019e+08     11.910123          2.874478     10.730064   \n",
       "std    2.318733e+08      7.409469          1.488553      5.877961   \n",
       "min    4.045796e+07      0.000000          1.000000      1.000000   \n",
       "25%    5.570720e+07      6.000000          2.000000      5.000000   \n",
       "50%    7.807798e+07     13.000000          3.000000     11.000000   \n",
       "75%    1.009168e+08     18.000000          4.000000     16.000000   \n",
       "max    9.441322e+08     23.000000          5.000000     23.000000   \n",
       "\n",
       "       Neighborhoods            day   crime_type      maxtempC      mintempC  \\\n",
       "count    39276.000000  39276.000000  39276.00000  39276.000000  39276.000000   \n",
       "mean        16.975023      4.055734      2.49753     14.335676      7.113657   \n",
       "std          9.930178      2.009076      1.52179     10.293120      8.946516   \n",
       "min          1.000000      1.000000      1.00000    -10.000000    -19.000000   \n",
       "25%          8.000000      2.000000      1.00000      6.000000      0.000000   \n",
       "50%         16.000000      4.000000      2.00000     15.000000      7.000000   \n",
       "75%         26.000000      6.000000      4.00000     24.000000     15.000000   \n",
       "max         35.000000      7.000000      8.00000     31.000000     24.000000   \n",
       "\n",
       "       totalSnow_cm  ...    WindChillC  WindGustKmph    cloudcover  \\\n",
       "count  39276.000000  ...  39276.000000  39276.000000  39276.000000   \n",
       "mean       0.088036  ...      8.945259     23.706462     45.766804   \n",
       "std        0.414733  ...     11.822076     12.273041     36.445190   \n",
       "min        0.000000  ...    -23.000000      0.000000      0.000000   \n",
       "25%        0.000000  ...      0.000000     15.000000     11.000000   \n",
       "50%        0.000000  ...     10.000000     22.000000     39.000000   \n",
       "75%        0.000000  ...     19.000000     31.000000     82.000000   \n",
       "max        6.400000  ...     32.000000    103.000000    100.000000   \n",
       "\n",
       "           humidity      precipMM      pressure         tempC    visibility  \\\n",
       "count  39276.000000  39276.000000  39276.000000  39276.000000  39276.000000   \n",
       "mean      80.606121      0.202345   1014.970898     10.595300      8.726856   \n",
       "std       14.275468      0.939023      7.378610      9.716855      2.918488   \n",
       "min       27.000000      0.000000    987.000000    -19.000000      0.000000   \n",
       "25%       71.000000      0.000000   1011.000000      3.000000     10.000000   \n",
       "50%       84.000000      0.000000   1015.000000     11.000000     10.000000   \n",
       "75%       93.000000      0.000000   1020.000000     19.000000     10.000000   \n",
       "max      100.000000     25.900000   1038.000000     31.000000     10.000000   \n",
       "\n",
       "       winddirDegree  windspeedKmph  \n",
       "count   39276.000000    39276.00000  \n",
       "mean      208.423847       14.42927  \n",
       "std        90.452574        7.65490  \n",
       "min         0.000000        0.00000  \n",
       "25%       160.000000        9.00000  \n",
       "50%       228.000000       13.00000  \n",
       "75%       271.000000       18.00000  \n",
       "max       360.000000       59.00000  \n",
       "\n",
       "[8 rows x 26 columns]"
      ]
     },
     "execution_count": 42,
     "metadata": {},
     "output_type": "execute_result"
    }
   ],
   "source": [
    "both.describe()"
   ]
  },
  {
   "cell_type": "markdown",
   "metadata": {},
   "source": [
    "##### The below visualizations all show our new features such as cloud cover, feels like C, and temp C do not vary depending on the type of crime"
   ]
  },
  {
   "cell_type": "code",
   "execution_count": 43,
   "metadata": {},
   "outputs": [
    {
     "data": {
      "text/plain": [
       "<matplotlib.axes._subplots.AxesSubplot at 0x18e5d31d588>"
      ]
     },
     "execution_count": 43,
     "metadata": {},
     "output_type": "execute_result"
    },
    {
     "data": {
      "image/png": "[encoded data removed]",
      "text/plain": [
       "<Figure size 1440x360 with 1 Axes>"
      ]
     },
     "metadata": {
      "needs_background": "light"
     },
     "output_type": "display_data"
    }
   ],
   "source": [
    "both.cloudcover.value_counts().sort_index().plot.bar(figsize=(20,5))"
   ]
  },
  {
   "cell_type": "code",
   "execution_count": 44,
   "metadata": {},
   "outputs": [
    {
     "data": {
      "text/plain": [
       "<matplotlib.axes._subplots.AxesSubplot at 0x18e4fb14b00>"
      ]
     },
     "execution_count": 44,
     "metadata": {},
     "output_type": "execute_result"
    },
    {
     "data": {
      "image/png": "[encoded data removed]",
      "text/plain": [
       "<Figure size 1440x360 with 1 Axes>"
      ]
     },
     "metadata": {
      "needs_background": "light"
     },
     "output_type": "display_data"
    }
   ],
   "source": [
    "both.groupby('crime_type').cloudcover.value_counts().unstack(0).plot.bar(figsize=(20,5))"
   ]
  },
  {
   "cell_type": "code",
   "execution_count": 45,
   "metadata": {},
   "outputs": [
    {
     "data": {
      "text/plain": [
       "<matplotlib.axes._subplots.AxesSubplot at 0x18e5cc459b0>"
      ]
     },
     "execution_count": 45,
     "metadata": {},
     "output_type": "execute_result"
    },
    {
     "data": {
      "image/png": "[encoded data removed]",
      "text/plain": [
       "<Figure size 1440x360 with 1 Axes>"
      ]
     },
     "metadata": {
      "needs_background": "light"
     },
     "output_type": "display_data"
    }
   ],
   "source": [
    "both.FeelsLikeC.value_counts().sort_index().plot.bar(figsize=(20,5))"
   ]
  },
  {
   "cell_type": "code",
   "execution_count": 46,
   "metadata": {},
   "outputs": [
    {
     "data": {
      "text/plain": [
       "<matplotlib.axes._subplots.AxesSubplot at 0x18e5d139048>"
      ]
     },
     "execution_count": 46,
     "metadata": {},
     "output_type": "execute_result"
    },
    {
     "data": {
      "image/png": "[encoded data removed]",
      "text/plain": [
       "<Figure size 1440x360 with 1 Axes>"
      ]
     },
     "metadata": {
      "needs_background": "light"
     },
     "output_type": "display_data"
    }
   ],
   "source": [
    "both.groupby('crime_type').FeelsLikeC.value_counts().unstack(0).plot.bar(figsize=(20,5))"
   ]
  },
  {
   "cell_type": "code",
   "execution_count": 47,
   "metadata": {},
   "outputs": [
    {
     "data": {
      "text/plain": [
       "<matplotlib.axes._subplots.AxesSubplot at 0x18e5e7fe198>"
      ]
     },
     "execution_count": 47,
     "metadata": {},
     "output_type": "execute_result"
    },
    {
     "data": {
      "image/png": "[encoded data removed]",
      "text/plain": [
       "<Figure size 1440x360 with 1 Axes>"
      ]
     },
     "metadata": {
      "needs_background": "light"
     },
     "output_type": "display_data"
    }
   ],
   "source": [
    "both.tempC.value_counts().sort_index().plot.bar(figsize=(20,5))"
   ]
  },
  {
   "cell_type": "code",
   "execution_count": 48,
   "metadata": {},
   "outputs": [
    {
     "data": {
      "text/plain": [
       "<matplotlib.axes._subplots.AxesSubplot at 0x18e603b7e48>"
      ]
     },
     "execution_count": 48,
     "metadata": {},
     "output_type": "execute_result"
    },
    {
     "data": {
      "image/png": "[encoded data removed]",
      "text/plain": [
       "<Figure size 1440x360 with 1 Axes>"
      ]
     },
     "metadata": {
      "needs_background": "light"
     },
     "output_type": "display_data"
    }
   ],
   "source": [
    "both.groupby('crime_type').tempC.value_counts().unstack(0).plot.bar(figsize=(20,5))"
   ]
  },
  {
   "cell_type": "code",
   "execution_count": 49,
   "metadata": {},
   "outputs": [],
   "source": [
    "both = both[['hour_of_day',\n",
    "       'Police Districts', 'Zip Codes',\n",
    "       'Neighborhoods ', 'day', 'crime_type','maxtempC',\n",
    "       'mintempC', 'totalSnow_cm', 'sunHour', 'uvIndex', 'moon_illumination',\n",
    "       'DewPointC', 'FeelsLikeC',\n",
    "       'HeatIndexC', 'WindChillC', 'WindGustKmph', 'cloudcover', 'humidity',\n",
    "       'precipMM', 'pressure', 'tempC', 'visibility', 'winddirDegree',\n",
    "       'windspeedKmph']]"
   ]
  },
  {
   "cell_type": "code",
   "execution_count": 50,
   "metadata": {},
   "outputs": [],
   "source": [
    "data = both.to_numpy()\n",
    "data = data.astype(int)\n",
    "X_train, X_test, Y_train, Y_test = train_test_split(data[:,(0,1,2,3,4,6,7,8,9,10,11,12,13,14,15,16,17,18,19,20,21,22,23,24)], data[:,5], test_size=0.2)"
   ]
  },
  {
   "cell_type": "markdown",
   "metadata": {},
   "source": [
    "##### We can verify these added features can't help us build a better machine learning model, and we must search for better variables"
   ]
  },
  {
   "cell_type": "code",
   "execution_count": 51,
   "metadata": {},
   "outputs": [
    {
     "name": "stderr",
     "output_type": "stream",
     "text": [
      "C:\\ProgramData\\Anaconda3\\lib\\site-packages\\sklearn\\ensemble\\forest.py:245: FutureWarning: The default value of n_estimators will change from 10 in version 0.20 to 100 in 0.22.\n",
      "  \"10 in version 0.20 to 100 in 0.22.\", FutureWarning)\n"
     ]
    },
    {
     "data": {
      "text/plain": [
       "'Random Forest Classifier Score: '"
      ]
     },
     "metadata": {},
     "output_type": "display_data"
    },
    {
     "data": {
      "text/plain": [
       "0.3918024439918534"
      ]
     },
     "metadata": {},
     "output_type": "display_data"
    },
    {
     "data": {
      "text/plain": [
       "'Decision Tree Classifier Score: '"
      ]
     },
     "metadata": {},
     "output_type": "display_data"
    },
    {
     "data": {
      "text/plain": [
       "0.32382892057026474"
      ]
     },
     "metadata": {},
     "output_type": "display_data"
    },
    {
     "data": {
      "text/plain": [
       "'KNN Classifier Score: '"
      ]
     },
     "metadata": {},
     "output_type": "display_data"
    },
    {
     "data": {
      "text/plain": [
       "0.38785641547861505"
      ]
     },
     "metadata": {},
     "output_type": "display_data"
    },
    {
     "name": "stderr",
     "output_type": "stream",
     "text": [
      "C:\\ProgramData\\Anaconda3\\lib\\site-packages\\sklearn\\linear_model\\sag.py:337: ConvergenceWarning: The max_iter was reached which means the coef_ did not converge\n",
      "  \"the coef_ did not converge\", ConvergenceWarning)\n"
     ]
    },
    {
     "data": {
      "text/plain": [
       "'Logistic Regression Classifier Score: '"
      ]
     },
     "metadata": {},
     "output_type": "display_data"
    },
    {
     "data": {
      "text/plain": [
       "0.43609979633401225"
      ]
     },
     "metadata": {},
     "output_type": "display_data"
    }
   ],
   "source": [
    "#Random Forest Classifier\n",
    "RF = RandomForestClassifier()\n",
    "RF.fit(X_train,Y_train)\n",
    "# Making the prediction\n",
    "y_pred1 = RF.predict(X_test)\n",
    "display('Random Forest Classifier Score: ', metrics.accuracy_score(Y_test,y_pred1))\n",
    "\n",
    "#Decision Tree Classifier\n",
    "giniImp = DecisionTreeClassifier(criterion = \"gini\", random_state=100)\n",
    "giniImp.fit(X_train,Y_train)\n",
    "# make prediction \n",
    "y_pred2 = giniImp.predict(X_test)\n",
    "display('Decision Tree Classifier Score: ', metrics.accuracy_score(Y_test,y_pred2))\n",
    "\n",
    "#KNN Classifier \n",
    "neigh = KNeighborsClassifier(n_neighbors = 5)\n",
    "neigh.fit(X_train,Y_train)\n",
    "# Making the prediction\n",
    "y_pred3 = neigh.predict(X_test)\n",
    "display('KNN Classifier Score: ', metrics.accuracy_score(Y_test,y_pred3))\n",
    "\n",
    "#Logisitic Regression Classifier\n",
    "lrmodel = LogisticRegression(multi_class = 'multinomial', solver = 'sag', C = 1000)\n",
    "lrmodel.fit(X_train,Y_train)\n",
    "# Making the prediction\n",
    "y_pred4 = lrmodel.predict(X_test)\n",
    "display('Logistic Regression Classifier Score: ', metrics.accuracy_score(Y_test,y_pred4))"
   ]
  },
  {
   "cell_type": "markdown",
   "metadata": {},
   "source": [
    "##### The function corr() defaults to give us the Pearson correlation coefficient, and as you can see by the results below, these features are not correlated with crime type"
   ]
  },
  {
   "cell_type": "code",
   "execution_count": 52,
   "metadata": {},
   "outputs": [
    {
     "data": {
      "text/plain": [
       "Police Districts    -0.031182\n",
       "Zip Codes           -0.001805\n",
       "Neighborhoods        0.000455\n",
       "day                 -0.004531\n",
       "crime_type           1.000000\n",
       "maxtempC             0.019960\n",
       "mintempC             0.020566\n",
       "totalSnow_cm        -0.007250\n",
       "sunHour              0.002696\n",
       "uvIndex              0.020351\n",
       "moon_illumination   -0.003916\n",
       "DewPointC            0.018198\n",
       "FeelsLikeC           0.008994\n",
       "HeatIndexC           0.008057\n",
       "WindChillC           0.009206\n",
       "WindGustKmph        -0.000203\n",
       "cloudcover           0.000962\n",
       "humidity             0.029418\n",
       "precipMM             0.007496\n",
       "pressure            -0.000731\n",
       "tempC                0.008582\n",
       "visibility          -0.011245\n",
       "winddirDegree       -0.009735\n",
       "windspeedKmph       -0.008234\n",
       "Name: crime_type, dtype: float64"
      ]
     },
     "execution_count": 52,
     "metadata": {},
     "output_type": "execute_result"
    }
   ],
   "source": [
    "both[both.columns[1:]].corr()['crime_type'][:]"
   ]
  },
  {
   "cell_type": "markdown",
   "metadata": {},
   "source": [
    "##### After this analysis, the features of the combined datasets are not correlated to the crime_type and therefore cannot help with creating a better model. "
   ]
  },
  {
   "cell_type": "code",
   "execution_count": null,
   "metadata": {},
   "outputs": [],
   "source": []
  }
 ],
 "metadata": {
  "kernelspec": {
   "display_name": "Python 3",
   "language": "python",
   "name": "python3"
  },
  "language_info": {
   "codemirror_mode": {
    "name": "ipython",
    "version": 3
   },
   "file_extension": ".py",
   "mimetype": "text/x-python",
   "name": "python",
   "nbconvert_exporter": "python",
   "pygments_lexer": "ipython3",
   "version": "3.7.3"
  }
 },
 "nbformat": 4,
 "nbformat_minor": 2
}
